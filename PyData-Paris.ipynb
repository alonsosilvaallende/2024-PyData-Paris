{
 "cells": [
  {
   "cell_type": "raw",
   "id": "41259ec7-e56c-444a-a28b-7ac33960f946",
   "metadata": {},
   "source": [
    "---\n",
    "title: \"Enhancing RAG-based apps by constructing and leveraging knowledge graphs with open-weights LLMs\"\n",
    "author: \"Alonso Silva (twitter/X: @alonsosilva)\"\n",
    "format: \n",
    "  revealjs:\n",
    "    theme: default\n",
    "    scrollable: true\n",
    "    toc: true\n",
    "    toc-depth: 1\n",
    "    slide-number: true\n",
    "---"
   ]
  },
  {
   "cell_type": "code",
   "execution_count": 1,
   "id": "e91140b4-68ab-4388-8cd2-eb288994f1d6",
   "metadata": {
    "execution": {
     "iopub.execute_input": "2024-09-25T08:03:32.034737Z",
     "iopub.status.busy": "2024-09-25T08:03:32.033948Z",
     "iopub.status.idle": "2024-09-25T08:03:32.047944Z",
     "shell.execute_reply": "2024-09-25T08:03:32.046616Z",
     "shell.execute_reply.started": "2024-09-25T08:03:32.034682Z"
    }
   },
   "outputs": [],
   "source": [
    "from IPython.display import IFrame"
   ]
  },
  {
   "cell_type": "markdown",
   "id": "43221d79-5377-476f-be63-05350de6e4ea",
   "metadata": {},
   "source": [
    "# Introduction"
   ]
  },
  {
   "cell_type": "markdown",
   "id": "059f55e6-b2cd-4dea-b562-adb62b66efb3",
   "metadata": {},
   "source": [
    "## Data"
   ]
  },
  {
   "cell_type": "code",
   "execution_count": 2,
   "id": "4bdb8335-e220-4428-bce7-92f72ff706df",
   "metadata": {
    "execution": {
     "iopub.execute_input": "2024-09-25T08:03:32.049404Z",
     "iopub.status.busy": "2024-09-25T08:03:32.049058Z",
     "iopub.status.idle": "2024-09-25T08:03:34.966649Z",
     "shell.execute_reply": "2024-09-25T08:03:34.965018Z",
     "shell.execute_reply.started": "2024-09-25T08:03:32.049371Z"
    }
   },
   "outputs": [
    {
     "data": {
      "text/html": [
       "<div><style>\n",
       ".dataframe > thead > tr,\n",
       ".dataframe > tbody > tr {\n",
       "  text-align: right;\n",
       "  white-space: pre-wrap;\n",
       "}\n",
       "</style>\n",
       "<small>shape: (5, 4)</small><table border=\"1\" class=\"dataframe\"><thead><tr><th>Song</th><th>Lyrics</th><th>Album</th><th>Artist</th></tr><tr><td>str</td><td>str</td><td>str</td><td>str</td></tr></thead><tbody><tr><td>&quot;Don&#x27;t Tread On Me&quot;</td><td>&quot;Liberty or death\n",
       "what we so pr…</td><td>&quot;The Black Album&quot;</td><td>&quot;Metallica&quot;</td></tr><tr><td>&quot;Nothing Else Matters&quot;</td><td>&quot;So close no matter how far\n",
       "cou…</td><td>&quot;The Black Album&quot;</td><td>&quot;Metallica&quot;</td></tr><tr><td>&quot;Through The Never&quot;</td><td>&quot;All that is\n",
       "was and will be\n",
       "un…</td><td>&quot;The Black Album&quot;</td><td>&quot;Metallica&quot;</td></tr><tr><td>&quot;My Friend Of Misery&quot;</td><td>&quot;You just stood there screaming…</td><td>&quot;The Black Album&quot;</td><td>&quot;Metallica&quot;</td></tr><tr><td>&quot;Wherever I May Roam&quot;</td><td>&quot;...and the road becomes my bri…</td><td>&quot;The Black Album&quot;</td><td>&quot;Metallica&quot;</td></tr></tbody></table></div>"
      ],
      "text/plain": [
       "shape: (5, 4)\n",
       "┌──────────────────────┬─────────────────────────────────┬─────────────────┬───────────┐\n",
       "│ Song                 ┆ Lyrics                          ┆ Album           ┆ Artist    │\n",
       "│ ---                  ┆ ---                             ┆ ---             ┆ ---       │\n",
       "│ str                  ┆ str                             ┆ str             ┆ str       │\n",
       "╞══════════════════════╪═════════════════════════════════╪═════════════════╪═══════════╡\n",
       "│ Don't Tread On Me    ┆ Liberty or death                ┆ The Black Album ┆ Metallica │\n",
       "│                      ┆ what we so pr…                  ┆                 ┆           │\n",
       "│ Nothing Else Matters ┆ So close no matter how far      ┆ The Black Album ┆ Metallica │\n",
       "│                      ┆ cou…                            ┆                 ┆           │\n",
       "│ Through The Never    ┆ All that is                     ┆ The Black Album ┆ Metallica │\n",
       "│                      ┆ was and will be                 ┆                 ┆           │\n",
       "│                      ┆ un…                             ┆                 ┆           │\n",
       "│ My Friend Of Misery  ┆ You just stood there screaming… ┆ The Black Album ┆ Metallica │\n",
       "│ Wherever I May Roam  ┆ ...and the road becomes my bri… ┆ The Black Album ┆ Metallica │\n",
       "└──────────────────────┴─────────────────────────────────┴─────────────────┴───────────┘"
      ]
     },
     "execution_count": 2,
     "metadata": {},
     "output_type": "execute_result"
    }
   ],
   "source": [
    "#| echo: true\n",
    "import polars as pl\n",
    "import string\n",
    "\n",
    "df = pl.read_csv(\n",
    "    \"https://drive.google.com/uc?export=download&id=1uD3h7xYxr9EoZ0Ggoh99JtQXa3AxtxyU\"\n",
    ")\n",
    "df = df.with_columns(\n",
    "    pl.Series(\"Album\", [string.capwords(album) for album in df[\"Album\"]])\n",
    ")\n",
    "df = df.with_columns(\n",
    "    pl.Series(\"Song\", [string.capwords(song) for song in df[\"Song\"]])\n",
    ")\n",
    "df = df.with_columns(pl.col(\"Lyrics\").fill_null(\"None\"))\n",
    "df.head()"
   ]
  },
  {
   "cell_type": "code",
   "execution_count": 3,
   "id": "a04d6881-a831-405c-8cda-09991119eaf7",
   "metadata": {
    "execution": {
     "iopub.execute_input": "2024-09-25T08:03:34.969124Z",
     "iopub.status.busy": "2024-09-25T08:03:34.968602Z",
     "iopub.status.idle": "2024-09-25T08:03:34.975386Z",
     "shell.execute_reply": "2024-09-25T08:03:34.973920Z",
     "shell.execute_reply.started": "2024-09-25T08:03:34.969073Z"
    }
   },
   "outputs": [],
   "source": [
    "# #| echo: true\n",
    "# import string\n",
    "\n",
    "# df = df.with_columns(\n",
    "#     pl.Series(\"Album\", [string.capwords(album) for album in df[\"Album\"]])\n",
    "# )\n",
    "# df = df.with_columns(\n",
    "#     pl.Series(\"Song\", [string.capwords(song) for song in df[\"Song\"]])\n",
    "# )\n",
    "# df = df.with_columns(pl.col(\"Lyrics\").fill_null(\"None\"))\n",
    "# df.head()"
   ]
  },
  {
   "cell_type": "markdown",
   "id": "efba53d8-7cf5-41df-844b-13b4873a50a3",
   "metadata": {},
   "source": [
    "## Potential kind of queries"
   ]
  },
  {
   "cell_type": "code",
   "execution_count": 4,
   "id": "acfa768a-b9cd-4ac8-8d4e-c033c3772f0e",
   "metadata": {
    "execution": {
     "iopub.execute_input": "2024-09-25T08:03:34.977834Z",
     "iopub.status.busy": "2024-09-25T08:03:34.977158Z",
     "iopub.status.idle": "2024-09-25T08:03:35.001452Z",
     "shell.execute_reply": "2024-09-25T08:03:34.999921Z",
     "shell.execute_reply.started": "2024-09-25T08:03:34.977782Z"
    }
   },
   "outputs": [],
   "source": [
    "#| echo: true\n",
    "queries = [\n",
    "    \"Which song is about a boy who is having nightmares?\",\n",
    "    \"Which song is about a guy who is so badly wounded in war so he no longer has any senses?\",\n",
    "    \"How many songs does the reload album have?\",\n",
    "    \"Which songs does the black album have?\"\n",
    "]"
   ]
  },
  {
   "cell_type": "markdown",
   "id": "cbc5f48d-39b5-4ac1-9286-59f0d9ad0fdb",
   "metadata": {},
   "source": [
    "# Vector-only retrieval"
   ]
  },
  {
   "cell_type": "markdown",
   "id": "bfd3fc28-68b6-4864-8cc9-4f589cc8a6ea",
   "metadata": {},
   "source": [
    "## Vector-only retrieval"
   ]
  },
  {
   "cell_type": "code",
   "execution_count": 5,
   "id": "0d75b811-2c90-464d-a601-834a7edec571",
   "metadata": {
    "execution": {
     "iopub.execute_input": "2024-09-25T08:03:35.003719Z",
     "iopub.status.busy": "2024-09-25T08:03:35.003014Z",
     "iopub.status.idle": "2024-09-25T08:03:35.019461Z",
     "shell.execute_reply": "2024-09-25T08:03:35.017963Z",
     "shell.execute_reply.started": "2024-09-25T08:03:35.003658Z"
    }
   },
   "outputs": [],
   "source": [
    "# #| echo: true\n",
    "# df = df.with_columns(\n",
    "#     text=pl.lit(\"Album: \")\n",
    "#     + pl.col(\"Album\")\n",
    "#     + pl.lit(\"\\nSong: \")\n",
    "#     + pl.col(\"Song\")\n",
    "#     + pl.lit(\"\\n\\n\")\n",
    "#     + pl.col(\"Lyrics\")\n",
    "# )\n",
    "\n",
    "# df.head()"
   ]
  },
  {
   "cell_type": "code",
   "execution_count": 6,
   "id": "221e6fc8-dc12-4dc9-a52c-011b605b4819",
   "metadata": {
    "execution": {
     "iopub.execute_input": "2024-09-25T08:03:35.024416Z",
     "iopub.status.busy": "2024-09-25T08:03:35.023736Z",
     "iopub.status.idle": "2024-09-25T08:03:35.048116Z",
     "shell.execute_reply": "2024-09-25T08:03:35.046893Z",
     "shell.execute_reply.started": "2024-09-25T08:03:35.024366Z"
    }
   },
   "outputs": [
    {
     "data": {
      "text/html": [
       "<div><style>\n",
       ".dataframe > thead > tr,\n",
       ".dataframe > tbody > tr {\n",
       "  text-align: right;\n",
       "  white-space: pre-wrap;\n",
       "}\n",
       "</style>\n",
       "<small>shape: (5, 5)</small><table border=\"1\" class=\"dataframe\"><thead><tr><th>Song</th><th>Lyrics</th><th>Album</th><th>Artist</th><th>text</th></tr><tr><td>str</td><td>str</td><td>str</td><td>str</td><td>str</td></tr></thead><tbody><tr><td>&quot;Don&#x27;t Tread On Me&quot;</td><td>&quot;Liberty or death\n",
       "what we so pr…</td><td>&quot;The Black Album&quot;</td><td>&quot;Metallica&quot;</td><td>&quot;# The Black Album: Don&#x27;t Tread…</td></tr><tr><td>&quot;Nothing Else Matters&quot;</td><td>&quot;So close no matter how far\n",
       "cou…</td><td>&quot;The Black Album&quot;</td><td>&quot;Metallica&quot;</td><td>&quot;# The Black Album: Nothing Els…</td></tr><tr><td>&quot;Through The Never&quot;</td><td>&quot;All that is\n",
       "was and will be\n",
       "un…</td><td>&quot;The Black Album&quot;</td><td>&quot;Metallica&quot;</td><td>&quot;# The Black Album: Through The…</td></tr><tr><td>&quot;My Friend Of Misery&quot;</td><td>&quot;You just stood there screaming…</td><td>&quot;The Black Album&quot;</td><td>&quot;Metallica&quot;</td><td>&quot;# The Black Album: My Friend O…</td></tr><tr><td>&quot;Wherever I May Roam&quot;</td><td>&quot;...and the road becomes my bri…</td><td>&quot;The Black Album&quot;</td><td>&quot;Metallica&quot;</td><td>&quot;# The Black Album: Wherever I …</td></tr></tbody></table></div>"
      ],
      "text/plain": [
       "shape: (5, 5)\n",
       "┌──────────────────────┬──────────────────────┬─────────────────┬───────────┬──────────────────────┐\n",
       "│ Song                 ┆ Lyrics               ┆ Album           ┆ Artist    ┆ text                 │\n",
       "│ ---                  ┆ ---                  ┆ ---             ┆ ---       ┆ ---                  │\n",
       "│ str                  ┆ str                  ┆ str             ┆ str       ┆ str                  │\n",
       "╞══════════════════════╪══════════════════════╪═════════════════╪═══════════╪══════════════════════╡\n",
       "│ Don't Tread On Me    ┆ Liberty or death     ┆ The Black Album ┆ Metallica ┆ # The Black Album:   │\n",
       "│                      ┆ what we so pr…       ┆                 ┆           ┆ Don't Tread…         │\n",
       "│ Nothing Else Matters ┆ So close no matter   ┆ The Black Album ┆ Metallica ┆ # The Black Album:   │\n",
       "│                      ┆ how far              ┆                 ┆           ┆ Nothing Els…         │\n",
       "│                      ┆ cou…                 ┆                 ┆           ┆                      │\n",
       "│ Through The Never    ┆ All that is          ┆ The Black Album ┆ Metallica ┆ # The Black Album:   │\n",
       "│                      ┆ was and will be      ┆                 ┆           ┆ Through The…         │\n",
       "│                      ┆ un…                  ┆                 ┆           ┆                      │\n",
       "│ My Friend Of Misery  ┆ You just stood there ┆ The Black Album ┆ Metallica ┆ # The Black Album:   │\n",
       "│                      ┆ screaming…           ┆                 ┆           ┆ My Friend O…         │\n",
       "│ Wherever I May Roam  ┆ ...and the road      ┆ The Black Album ┆ Metallica ┆ # The Black Album:   │\n",
       "│                      ┆ becomes my bri…      ┆                 ┆           ┆ Wherever I …         │\n",
       "└──────────────────────┴──────────────────────┴─────────────────┴───────────┴──────────────────────┘"
      ]
     },
     "execution_count": 6,
     "metadata": {},
     "output_type": "execute_result"
    }
   ],
   "source": [
    "#| echo: true\n",
    "df = df.with_columns(\n",
    "    text=pl.lit(\"# \")\n",
    "    + pl.col(\"Album\")\n",
    "    + pl.lit(\": \")\n",
    "    + pl.col(\"Song\")\n",
    "    + pl.lit(\"\\n\\n\")\n",
    "    + pl.col(\"Lyrics\")\n",
    ")\n",
    "\n",
    "df.head()"
   ]
  },
  {
   "cell_type": "markdown",
   "id": "b11fc573-77de-4852-8fb5-b9a3a666b759",
   "metadata": {},
   "source": [
    "## Vector-only retrieval"
   ]
  },
  {
   "cell_type": "code",
   "execution_count": 7,
   "id": "bfb78d4e-952c-4451-8f1c-7715e68e28d2",
   "metadata": {
    "execution": {
     "iopub.execute_input": "2024-09-25T08:03:35.050271Z",
     "iopub.status.busy": "2024-09-25T08:03:35.049772Z",
     "iopub.status.idle": "2024-09-25T08:03:35.061878Z",
     "shell.execute_reply": "2024-09-25T08:03:35.060128Z",
     "shell.execute_reply.started": "2024-09-25T08:03:35.050228Z"
    }
   },
   "outputs": [
    {
     "name": "stdout",
     "output_type": "stream",
     "text": [
      "# The Black Album: Nothing Else Matters\n",
      "\n",
      "So close no matter how far\n",
      "couldn't be much more from the heart\n",
      "forever trusting who we are\n",
      "and nothing else matters\n",
      "never opened myself this way\n",
      "life is ours\n",
      "we live it our way\n",
      "all these words I don't just say\n",
      "and nothing else matters\n",
      "trust I seek and I find\n",
      "...\n"
     ]
    }
   ],
   "source": [
    "#| echo: true\n",
    "print(df.select(\"text\")[1].item()[:300])\n",
    "print(\"...\")"
   ]
  },
  {
   "cell_type": "markdown",
   "id": "24d8af2e-900b-45b1-b2cf-f47324a90011",
   "metadata": {},
   "source": [
    "## Vector-only retrieval"
   ]
  },
  {
   "cell_type": "code",
   "execution_count": 8,
   "id": "879c6d5e-87d5-485c-86c1-026206ac275f",
   "metadata": {
    "execution": {
     "iopub.execute_input": "2024-09-25T08:03:35.064350Z",
     "iopub.status.busy": "2024-09-25T08:03:35.063682Z",
     "iopub.status.idle": "2024-09-25T08:03:35.613449Z",
     "shell.execute_reply": "2024-09-25T08:03:35.612678Z",
     "shell.execute_reply.started": "2024-09-25T08:03:35.064301Z"
    }
   },
   "outputs": [],
   "source": [
    "#| echo: true\n",
    "import shutil\n",
    "import lancedb\n",
    "\n",
    "shutil.rmtree(\"test_lancedb\", ignore_errors=True)\n",
    "db = lancedb.connect(\"test_lancedb\")"
   ]
  },
  {
   "cell_type": "markdown",
   "id": "187f40d3-0615-45b5-a5db-ef55260953cb",
   "metadata": {},
   "source": [
    "## Vector-only retrieval"
   ]
  },
  {
   "cell_type": "code",
   "execution_count": 9,
   "id": "db1bb40f-fe45-458a-a18b-74ed3e4f8e49",
   "metadata": {
    "execution": {
     "iopub.execute_input": "2024-09-25T08:03:35.614359Z",
     "iopub.status.busy": "2024-09-25T08:03:35.614138Z",
     "iopub.status.idle": "2024-09-25T08:03:35.618356Z",
     "shell.execute_reply": "2024-09-25T08:03:35.617563Z",
     "shell.execute_reply.started": "2024-09-25T08:03:35.614343Z"
    }
   },
   "outputs": [],
   "source": [
    "#| echo: true\n",
    "from lancedb.embeddings import get_registry\n",
    "\n",
    "embeddings = (\n",
    "    get_registry()\n",
    "    .get(\"sentence-transformers\")\n",
    "    .create(name=\"TaylorAI/gte-tiny\", device=\"cuda\")\n",
    ")"
   ]
  },
  {
   "cell_type": "markdown",
   "id": "2509fba5-4a5c-4d83-9aff-c182d86f73be",
   "metadata": {},
   "source": [
    "## Vector-only retrieval"
   ]
  },
  {
   "cell_type": "code",
   "execution_count": 10,
   "id": "784ad2ce-d0b4-4154-9b21-25873d7fbb31",
   "metadata": {
    "execution": {
     "iopub.execute_input": "2024-09-25T08:03:35.618990Z",
     "iopub.status.busy": "2024-09-25T08:03:35.618854Z",
     "iopub.status.idle": "2024-09-25T08:03:40.227027Z",
     "shell.execute_reply": "2024-09-25T08:03:40.225623Z",
     "shell.execute_reply.started": "2024-09-25T08:03:35.618976Z"
    }
   },
   "outputs": [],
   "source": [
    "#| echo: true\n",
    "from lancedb.pydantic import LanceModel, Vector\n",
    "\n",
    "class Songs(LanceModel):\n",
    "    Song: str\n",
    "    Lyrics: str\n",
    "    Album: str\n",
    "    Artist: str\n",
    "    text: str = embeddings.SourceField()\n",
    "    vector: Vector(embeddings.ndims()) = embeddings.VectorField()"
   ]
  },
  {
   "cell_type": "markdown",
   "id": "ecbde472-9a39-4b96-9b56-4c1c93e2e04a",
   "metadata": {},
   "source": [
    "## Vector-only retrieval"
   ]
  },
  {
   "cell_type": "code",
   "execution_count": 11,
   "id": "65f3f267-7290-4f2b-a493-f901e371e062",
   "metadata": {
    "execution": {
     "iopub.execute_input": "2024-09-25T08:03:40.228219Z",
     "iopub.status.busy": "2024-09-25T08:03:40.227895Z",
     "iopub.status.idle": "2024-09-25T08:03:40.572664Z",
     "shell.execute_reply": "2024-09-25T08:03:40.572076Z",
     "shell.execute_reply.started": "2024-09-25T08:03:40.228202Z"
    }
   },
   "outputs": [],
   "source": [
    "#| echo: true\n",
    "table = db.create_table(\"Songs\", schema=Songs)\n",
    "table.add(data=df)"
   ]
  },
  {
   "cell_type": "code",
   "execution_count": 12,
   "id": "618d7643-d259-4ee1-9689-03fe4e07a3e1",
   "metadata": {
    "execution": {
     "iopub.execute_input": "2024-09-25T08:03:40.573554Z",
     "iopub.status.busy": "2024-09-25T08:03:40.573372Z",
     "iopub.status.idle": "2024-09-25T08:03:40.576428Z",
     "shell.execute_reply": "2024-09-25T08:03:40.575979Z",
     "shell.execute_reply.started": "2024-09-25T08:03:40.573538Z"
    }
   },
   "outputs": [],
   "source": [
    "# define reranker if you want different weigths than the defaults \n",
    "# and to return all scores\n",
    "from lancedb.rerankers import LinearCombinationReranker\n",
    "\n",
    "reranker = LinearCombinationReranker(\n",
    "    weight=0.9, return_score=\"all\"\n",
    ")  # Use 0.9 as the weight for semantic search"
   ]
  },
  {
   "cell_type": "markdown",
   "id": "9d9b095b-0831-408d-b5a2-da38cfd5ffeb",
   "metadata": {},
   "source": [
    "## Vector-only retrieval"
   ]
  },
  {
   "cell_type": "code",
   "execution_count": 16,
   "id": "55050e05-5fd3-48fe-a523-68208e49411e",
   "metadata": {
    "execution": {
     "iopub.execute_input": "2024-09-25T08:04:18.781681Z",
     "iopub.status.busy": "2024-09-25T08:04:18.780958Z",
     "iopub.status.idle": "2024-09-25T08:04:18.813297Z",
     "shell.execute_reply": "2024-09-25T08:04:18.812354Z",
     "shell.execute_reply.started": "2024-09-25T08:04:18.781625Z"
    }
   },
   "outputs": [
    {
     "data": {
      "text/html": [
       "<div><style>\n",
       ".dataframe > thead > tr,\n",
       ".dataframe > tbody > tr {\n",
       "  text-align: right;\n",
       "  white-space: pre-wrap;\n",
       "}\n",
       "</style>\n",
       "<small>shape: (10, 5)</small><table border=\"1\" class=\"dataframe\"><thead><tr><th>Song</th><th>Album</th><th>_distance</th><th>Lyrics</th><th>vector</th></tr><tr><td>str</td><td>str</td><td>f32</td><td>str</td><td>array[f32, 384]</td></tr></thead><tbody><tr><td>&quot;Enter Sandman&quot;</td><td>&quot;The Black Album&quot;</td><td>0.228461</td><td>&quot;Say your prayers little one\n",
       "do…</td><td>[-0.019242, 0.004355, … 0.019346]</td></tr><tr><td>&quot;The Thing That Should Not Be&quot;</td><td>&quot;S&amp;m&quot;</td><td>0.229785</td><td>&quot;Messenger of fear in sight\n",
       "Dar…</td><td>[-0.0343, -0.004135, … 0.017745]</td></tr><tr><td>&quot;Hero Of The Day&quot;</td><td>&quot;S&amp;m&quot;</td><td>0.233728</td><td>&quot;Mama they try and break me\n",
       "The…</td><td>[-0.06035, 0.001112, … 0.052594]</td></tr><tr><td>&quot;The Thing That Should Not Be&quot;</td><td>&quot;Master Of Puppets&quot;</td><td>0.241206</td><td>&quot;Messenger of fear in sight\n",
       "Dar…</td><td>[-0.039418, 0.001882, … 0.016381]</td></tr><tr><td>&quot;Hero Of The Day&quot;</td><td>&quot;Load&quot;</td><td>0.245303</td><td>&quot;Mama they try and break me\n",
       "The…</td><td>[-0.07442, -0.000922, … 0.047706]</td></tr><tr><td>&quot;Invisible Kid&quot;</td><td>&quot;St. Anger&quot;</td><td>0.2473</td><td>&quot;Invisible Kid\n",
       "Never see what h…</td><td>[-0.033447, -0.034929, … 0.047731]</td></tr><tr><td>&quot;Enter Sandman&quot;</td><td>&quot;S&amp;m&quot;</td><td>0.250452</td><td>&quot;Let loose man!\n",
       "Say your prayer…</td><td>[-0.024093, 0.032401, … 0.021124]</td></tr><tr><td>&quot;Sad But True&quot;</td><td>&quot;S&amp;m&quot;</td><td>0.250919</td><td>&quot;Hey, hey, hey, hey, hey, hey, …</td><td>[-0.046668, -0.00912, … 0.024796]</td></tr><tr><td>&quot;My Friend Of Misery&quot;</td><td>&quot;The Black Album&quot;</td><td>0.253463</td><td>&quot;You just stood there screaming…</td><td>[-0.0754, -0.001582, … 0.026701]</td></tr><tr><td>&quot;One&quot;</td><td>&quot;S&amp;m&quot;</td><td>0.253472</td><td>&quot;I can&#x27;t remember anything\n",
       "Can&#x27;…</td><td>[-0.055845, -0.000173, … 0.016305]</td></tr></tbody></table></div>"
      ],
      "text/plain": [
       "shape: (10, 5)\n",
       "┌──────────────────────┬───────────────────┬───────────┬─────────────────────┬─────────────────────┐\n",
       "│ Song                 ┆ Album             ┆ _distance ┆ Lyrics              ┆ vector              │\n",
       "│ ---                  ┆ ---               ┆ ---       ┆ ---                 ┆ ---                 │\n",
       "│ str                  ┆ str               ┆ f32       ┆ str                 ┆ array[f32, 384]     │\n",
       "╞══════════════════════╪═══════════════════╪═══════════╪═════════════════════╪═════════════════════╡\n",
       "│ Enter Sandman        ┆ The Black Album   ┆ 0.228461  ┆ Say your prayers    ┆ [-0.019242,         │\n",
       "│                      ┆                   ┆           ┆ little one          ┆ 0.004355, … 0.0193… │\n",
       "│                      ┆                   ┆           ┆ do…                 ┆                     │\n",
       "│ The Thing That       ┆ S&m               ┆ 0.229785  ┆ Messenger of fear   ┆ [-0.0343,           │\n",
       "│ Should Not Be        ┆                   ┆           ┆ in sight            ┆ -0.004135, …        │\n",
       "│                      ┆                   ┆           ┆ Dar…                ┆ 0.01774…            │\n",
       "│ Hero Of The Day      ┆ S&m               ┆ 0.233728  ┆ Mama they try and   ┆ [-0.06035,          │\n",
       "│                      ┆                   ┆           ┆ break me            ┆ 0.001112, …         │\n",
       "│                      ┆                   ┆           ┆ The…                ┆ 0.05259…            │\n",
       "│ The Thing That       ┆ Master Of Puppets ┆ 0.241206  ┆ Messenger of fear   ┆ [-0.039418,         │\n",
       "│ Should Not Be        ┆                   ┆           ┆ in sight            ┆ 0.001882, … 0.0163… │\n",
       "│                      ┆                   ┆           ┆ Dar…                ┆                     │\n",
       "│ Hero Of The Day      ┆ Load              ┆ 0.245303  ┆ Mama they try and   ┆ [-0.07442,          │\n",
       "│                      ┆                   ┆           ┆ break me            ┆ -0.000922, …        │\n",
       "│                      ┆                   ┆           ┆ The…                ┆ 0.0477…             │\n",
       "│ Invisible Kid        ┆ St. Anger         ┆ 0.2473    ┆ Invisible Kid       ┆ [-0.033447,         │\n",
       "│                      ┆                   ┆           ┆ Never see what h…   ┆ -0.034929, … 0.047… │\n",
       "│ Enter Sandman        ┆ S&m               ┆ 0.250452  ┆ Let loose man!      ┆ [-0.024093,         │\n",
       "│                      ┆                   ┆           ┆ Say your prayer…    ┆ 0.032401, … 0.0211… │\n",
       "│ Sad But True         ┆ S&m               ┆ 0.250919  ┆ Hey, hey, hey, hey, ┆ [-0.046668,         │\n",
       "│                      ┆                   ┆           ┆ hey, hey, …         ┆ -0.00912, … 0.0247… │\n",
       "│ My Friend Of Misery  ┆ The Black Album   ┆ 0.253463  ┆ You just stood      ┆ [-0.0754,           │\n",
       "│                      ┆                   ┆           ┆ there screaming…    ┆ -0.001582, …        │\n",
       "│                      ┆                   ┆           ┆                     ┆ 0.02670…            │\n",
       "│ One                  ┆ S&m               ┆ 0.253472  ┆ I can't remember    ┆ [-0.055845,         │\n",
       "│                      ┆                   ┆           ┆ anything            ┆ -0.000173, … 0.016… │\n",
       "│                      ┆                   ┆           ┆ Can'…               ┆                     │\n",
       "└──────────────────────┴───────────────────┴───────────┴─────────────────────┴─────────────────────┘"
      ]
     },
     "execution_count": 16,
     "metadata": {},
     "output_type": "execute_result"
    }
   ],
   "source": [
    "#| echo: true\n",
    "query = \"Which song is about a boy who is having nightmares?\"\n",
    "results = table.search(query).limit(10).to_polars()\n",
    "results.select([\"Song\",\"Album\", \"_distance\", \"Lyrics\", \"vector\"])"
   ]
  },
  {
   "cell_type": "markdown",
   "id": "48f70088-0131-4da6-8ed1-2a0f8d09b098",
   "metadata": {},
   "source": [
    "## Vector-only retrieval"
   ]
  },
  {
   "cell_type": "code",
   "execution_count": 13,
   "id": "22439836-efdf-4614-b8c9-9ada9faeaa4c",
   "metadata": {
    "execution": {
     "iopub.execute_input": "2024-09-25T07:00:00.260782Z",
     "iopub.status.busy": "2024-09-25T07:00:00.260481Z",
     "iopub.status.idle": "2024-09-25T07:00:00.314710Z",
     "shell.execute_reply": "2024-09-25T07:00:00.313387Z",
     "shell.execute_reply.started": "2024-09-25T07:00:00.260752Z"
    }
   },
   "outputs": [
    {
     "data": {
      "text/plain": [
       "['Enter Sandman',\n",
       " 'The Thing That Should Not Be',\n",
       " 'Hero Of The Day',\n",
       " 'The Thing That Should Not Be',\n",
       " 'Hero Of The Day',\n",
       " 'Invisible Kid',\n",
       " 'Enter Sandman',\n",
       " 'Sad But True',\n",
       " 'My Friend Of Misery',\n",
       " 'One']"
      ]
     },
     "execution_count": 13,
     "metadata": {},
     "output_type": "execute_result"
    }
   ],
   "source": [
    "#| echo: true\n",
    "query = \"Which song is about a boy who is having nightmares?\"\n",
    "results = table.search(query).limit(10).to_polars()\n",
    "results[\"Song\"].to_list()"
   ]
  },
  {
   "cell_type": "markdown",
   "id": "7ae0fc60-be3d-4a6c-8b40-ff5e370027de",
   "metadata": {},
   "source": [
    "## Vector-only retrieval"
   ]
  },
  {
   "cell_type": "code",
   "execution_count": 14,
   "id": "29d9ec00-689e-4c5b-b43b-3f24523e2285",
   "metadata": {
    "execution": {
     "iopub.execute_input": "2024-09-25T07:00:00.315864Z",
     "iopub.status.busy": "2024-09-25T07:00:00.315612Z",
     "iopub.status.idle": "2024-09-25T07:00:00.338066Z",
     "shell.execute_reply": "2024-09-25T07:00:00.336740Z",
     "shell.execute_reply.started": "2024-09-25T07:00:00.315841Z"
    }
   },
   "outputs": [
    {
     "data": {
      "text/plain": [
       "['Phantom Lord',\n",
       " 'One',\n",
       " 'No Remorse',\n",
       " 'One',\n",
       " 'My Friend Of Misery',\n",
       " \"Low Man's Lyric\",\n",
       " 'The Unforgiven',\n",
       " 'Sad But True',\n",
       " \"Don't Tread On Me\",\n",
       " '2x4']"
      ]
     },
     "execution_count": 14,
     "metadata": {},
     "output_type": "execute_result"
    }
   ],
   "source": [
    "#| echo: true\n",
    "query = \"Which song is about a guy who is so badly wounded in war so he no longer has any senses?\"\n",
    "results = table.search(query).limit(10).to_polars()\n",
    "results[\"Song\"].to_list()"
   ]
  },
  {
   "cell_type": "markdown",
   "id": "89dc1aa5-80c3-4d17-8614-1aa978c05a2b",
   "metadata": {},
   "source": [
    "## Vector-only retrieval"
   ]
  },
  {
   "cell_type": "markdown",
   "id": "2022e8a3-8a63-4ea1-8e9f-f0e93e120582",
   "metadata": {
    "execution": {
     "iopub.execute_input": "2024-09-20T10:34:13.800026Z",
     "iopub.status.busy": "2024-09-20T10:34:13.799178Z",
     "iopub.status.idle": "2024-09-20T10:34:13.809275Z",
     "shell.execute_reply": "2024-09-20T10:34:13.807070Z",
     "shell.execute_reply.started": "2024-09-20T10:34:13.799941Z"
    }
   },
   "source": [
    "[https://alonsosilva-song-finder.hf.space](https://alonsosilva-song-finder.hf.space)"
   ]
  },
  {
   "cell_type": "code",
   "execution_count": 15,
   "id": "2ebd3acb-cd8e-499a-9ccf-1706eb4e9e7f",
   "metadata": {
    "execution": {
     "iopub.execute_input": "2024-09-25T07:00:00.340375Z",
     "iopub.status.busy": "2024-09-25T07:00:00.339673Z",
     "iopub.status.idle": "2024-09-25T07:00:00.347586Z",
     "shell.execute_reply": "2024-09-25T07:00:00.346515Z",
     "shell.execute_reply.started": "2024-09-25T07:00:00.340322Z"
    }
   },
   "outputs": [
    {
     "data": {
      "text/html": [
       "\n",
       "        <iframe\n",
       "            width=\"850\"\n",
       "            height=\"450\"\n",
       "            src=\"https://alonsosilva-song-finder.hf.space\"\n",
       "            frameborder=\"0\"\n",
       "            allowfullscreen\n",
       "            \n",
       "        ></iframe>\n",
       "        "
      ],
      "text/plain": [
       "<IPython.lib.display.IFrame at 0x7c54b5307eb0>"
      ]
     },
     "execution_count": 15,
     "metadata": {},
     "output_type": "execute_result"
    }
   ],
   "source": [
    "IFrame(\"https://alonsosilva-song-finder.hf.space\", width=850, height=450)"
   ]
  },
  {
   "cell_type": "markdown",
   "id": "7a660bdf-c3d8-4610-b9c9-6628bb41077f",
   "metadata": {},
   "source": [
    "## Retrieval Augmented Generation (RAG)"
   ]
  },
  {
   "cell_type": "code",
   "execution_count": 16,
   "id": "dca44d07-01dd-4e95-bfc6-3de7f3594929",
   "metadata": {
    "execution": {
     "iopub.execute_input": "2024-09-25T07:00:00.349526Z",
     "iopub.status.busy": "2024-09-25T07:00:00.349057Z",
     "iopub.status.idle": "2024-09-25T07:00:02.755246Z",
     "shell.execute_reply": "2024-09-25T07:00:02.754670Z",
     "shell.execute_reply.started": "2024-09-25T07:00:00.349480Z"
    }
   },
   "outputs": [],
   "source": [
    "#| echo: true\n",
    "import llama_cpp\n",
    "\n",
    "llm = llama_cpp.Llama(\n",
    "    \"/big_storage/llms/models/Hermes-3-Llama-3.1-8B.Q6_K.gguf\",\n",
    "    tokenizer=llama_cpp.llama_tokenizer.LlamaHFTokenizer.from_pretrained(\n",
    "        \"NousResearch/Hermes-3-Llama-3.1-8B\"\n",
    "    ),\n",
    "    n_gpu_layers=-1,\n",
    "    flash_attn=True,\n",
    "    n_ctx=8192,\n",
    "    verbose=False,\n",
    ")"
   ]
  },
  {
   "cell_type": "markdown",
   "id": "609083e5-cf3a-452f-a16f-b1c5165fde4b",
   "metadata": {},
   "source": [
    "## Retrieval Augmented Generation (RAG)"
   ]
  },
  {
   "cell_type": "code",
   "execution_count": 17,
   "id": "ff3f76e0-691a-49a0-bcb2-88e529a9feb5",
   "metadata": {
    "execution": {
     "iopub.execute_input": "2024-09-25T07:00:02.756290Z",
     "iopub.status.busy": "2024-09-25T07:00:02.755955Z",
     "iopub.status.idle": "2024-09-25T07:00:02.770970Z",
     "shell.execute_reply": "2024-09-25T07:00:02.769993Z",
     "shell.execute_reply.started": "2024-09-25T07:00:02.756270Z"
    },
    "scrolled": true
   },
   "outputs": [
    {
     "name": "stdout",
     "output_type": "stream",
     "text": [
      "# Kill 'em All: Phantom Lord\n",
      "\n",
      "Sound is ripping through your ears\n",
      "The deafening sound of metal nears\n",
      "Your bodies waiting for his whips\n",
      "The taste of leather on your lips\n",
      "Hear the cry of war\n",
      "Louder than before\n",
      "With his sword in hand\n",
      "To control the land\n",
      "Crushing metal strikes\n",
      "On this frightening night\n",
      "Fall onto your knees\n",
      "For the phantom lord\n",
      "Victims falling under chains\n",
      "You hear them crying dying pains\n",
      "The fist of terrors breaking through\n",
      "Now there's nothing you can do\n",
      "Hear the cry of war\n",
      "Louder than before\n",
      "With his sword in hand\n",
      "To control the land\n",
      "Crushing metal strikes\n",
      "On this frightening night\n",
      "Fall onto your knees\n",
      "For the phantom lord\n",
      "The leather armies have prevailed\n",
      "The phantom lord has never failed\n",
      "Smoke is lifting from the ground\n",
      "The rising volume metal sound\n",
      "Hear the cry of war\n",
      "Louder than before\n",
      "With his sword in hand\n",
      "To control the land\n",
      "Crushing metal strikes\n",
      "On this frightening night\n",
      "Fall onto your knees\n",
      "For the phantom lord\n",
      "Fall to your knees\n",
      "And bow to the phantom lord\n",
      "\n",
      "---\n",
      "\n",
      " # And Justice For All..: One\n",
      "\n",
      "I Can't Remember Anything\n",
      "Can't Tell If this Is True or Dream\n",
      "Deep down Inside I Feel to Scream\n",
      "this Terrible Silence Stops Me\n",
      "Now That the War Is Through with Me\n",
      "I'm Waking up I Can Not See\n",
      "That There Is Not Much Left of Me\n",
      "Nothing Is Real but Pain Now\n",
      "Hold My Breath as I Wish for Death\n",
      "Oh Please God,wake Me\n",
      "Back in the Womb its Much Too Real\n",
      "in Pumps Life That I must Feel\n",
      "but Can't Look Forward to Reveal\n",
      "Look to the Time When I'll Live\n",
      "Fed Through the Tube That Sticks in Me\n",
      "Just like a Wartime Novelty\n",
      "Tied to Machines That Make Me Be\n",
      "Cut this Life off from Me\n",
      "Hold My Breath as I Wish for Death\n",
      "Oh Please God,wake Me\n",
      "Now the World Is Gone I'm Just One\n",
      "Oh God,help Me Hold My Breath as I Wish for Death\n",
      "Oh Please God Help Me\n",
      "Darkness\n",
      "Imprisoning Me\n",
      "All That I See\n",
      "Absolute Horror\n",
      "I Cannot Live\n",
      "I Cannot Die\n",
      "Trapped in Myself\n",
      "Body My Holding Cell\n",
      "Landmine\n",
      "Has Taken My Sight\n",
      "Taken My Speech\n",
      "Taken My Hearing\n",
      "Taken My Arms\n",
      "Taken My Legs\n",
      "Taken My Soul\n",
      "Left Me with Life in Hell\n",
      "\n",
      "---\n",
      "\n",
      " # Kill 'em All: No Remorse\n",
      "\n",
      "No mercy for what we are doing\n",
      "No thought to even what we have done\n",
      "We don't need to feel the sorrow\n",
      "No remorse for the helpless one\n",
      "War without end\n",
      "No remorse no repent\n",
      "We don't care what it meant\n",
      "Another day another death\n",
      "Another sorrow another breath\n",
      "No remorse no repent\n",
      "We don't care what it meant\n",
      "Another day another death\n",
      "Another sorrow another breath\n",
      "Blood feeds the war machine\n",
      "As it eats its way across the land\n",
      "We don't need to feel the sorrow\n",
      "No remorse is the one command\n",
      "War without end\n",
      "No remorse no repent\n",
      "We don't care what it meant\n",
      "Another day another death\n",
      "Another sorrow another breath\n",
      "No remorse no repent\n",
      "We don't care what it meant\n",
      "Another day another death\n",
      "Another sorrow another breath\n",
      "Only the strong survive\n",
      "No one to save the weaker race\n",
      "We are ready to kill all comers\n",
      "Like a loaded gun right at your face\n",
      "War without end\n",
      "No remorse no repent\n",
      "We don't care what it meant\n",
      "Another day another death\n",
      "Another sorrow another breath\n",
      "No remorse no repent\n",
      "We don't care what it meant\n",
      "Another day another death\n",
      "Another sorrow another breath\n",
      "Attack\n",
      "Bullets are flying\n",
      "People are dying\n",
      "With madness surrounding all hell's breaking loose\n",
      "Soldiers are hounding\n",
      "Bodies are mounting\n",
      "Cannons are shouting to take their abuse\n",
      "With war machines going\n",
      "Blood starts to flowing\n",
      "No mercy given to anyone hear\n",
      "The furious fighting\n",
      "Swords are like lighting\n",
      "It all becomes frightening to you\n",
      "Know death is near\n",
      "No remorse\n",
      "\n",
      "---\n",
      "\n",
      " # S&m: One\n",
      "\n",
      "I can't remember anything\n",
      "Can't tell if this is true or dream\n",
      "Deep down\n",
      "inside I feel to scream\n",
      "This terrible silence stops me\n",
      "Now that the war is through with me\n",
      "I'm waking up, I cannot see\n",
      "That\n",
      "there's not much left of me\n",
      "Nothing is real but pain now\n",
      "Hold my breath as I wish for death\n",
      "Oh please God, wake me\n",
      "Back in the womb it's much to real\n",
      "In pumps life that I must feel\n",
      "But\n",
      "can't look forward to reveal\n",
      "Look to the time when I lived\n",
      "Fed through the tube that sticks in me\n",
      "Just like a wartime novelty\n",
      "Tied\n",
      "to machines that make me be\n",
      "Cut this shit out from me\n",
      "Hold my breath as I wish for death\n",
      "Oh please God, wake me\n",
      "Please God\n",
      "wake me!\n",
      "Now the world is gone I'm just one\n",
      "Oh God, help me\n",
      "Hold my breath as I\n",
      "wish for death\n",
      "Oh please God, help me, help me!!\n",
      "Darkness\n",
      "Imprisoning me\n",
      "All that I see\n",
      "Absolute horror\n",
      "I cannot\n",
      "live\n",
      "I cannot die\n",
      "Trapped in myself\n",
      "Body my holding cell\n",
      "Landmine\n",
      "Has taken my sight\n",
      "Taken my speech\n",
      "Taken my\n",
      "hearing\n",
      "Taken my arms\n",
      "Taken my legs\n",
      "Taken my soul\n",
      "Left me with life\n",
      "in hell \n",
      "no, NO, NO NO NO NO NO!!!\n",
      "\n",
      "---\n",
      "\n",
      " # The Black Album: My Friend Of Misery\n",
      "\n",
      "You just stood there screaming\n",
      "fearing no one was listening to you\n",
      "they say the empty can rattles the most\n",
      "the sound of your voice must soothe you\n",
      "hearing only what you want to hear\n",
      "and knowing only what you've heard\n",
      "you you're smothered in tragedy\n",
      "you're out to save the world\n",
      "misery\n",
      "you insist that the weight of the world\n",
      "should be on your shoulders\n",
      "misery\n",
      "there's much more to life than what you see\n",
      "my friend of misery\n",
      "you still stood there screaming\n",
      "no one caring about these words you tell\n",
      "my friend before your voice is gone\n",
      "one man's fun is another's hell\n",
      "these times are sent to try men's souls\n",
      "but something's wrong with all you see\n",
      "you you'll take it on all yourself\n",
      "remember\n",
      "misery loves company\n",
      "misery\n",
      "you insist that the weight of the world\n",
      "should be on your shoulders\n",
      "misery\n",
      "there's much more to life than what you see\n",
      "my friend of misery\n",
      "you just stood there creaming\n",
      "my friend of misery\n",
      "\n",
      "---\n",
      "\n",
      "\n"
     ]
    }
   ],
   "source": [
    "#| echo: true\n",
    "def get_relevant_texts(query):\n",
    "    results = (\n",
    "        table.search(query)\n",
    "             .limit(5)\n",
    "             .to_polars()\n",
    "    )\n",
    "    return \" \".join([results[\"text\"][i] + \"\\n\\n---\\n\\n\" for i in range(5)])\n",
    "\n",
    "print(get_relevant_texts(query))"
   ]
  },
  {
   "cell_type": "markdown",
   "id": "c02dcbce-57cf-4cb9-8934-c13d04f42048",
   "metadata": {},
   "source": [
    "## Retrieval Augmented Generation (RAG)"
   ]
  },
  {
   "cell_type": "code",
   "execution_count": 18,
   "id": "548bbd82-4d11-475f-b3f9-afee31a50e13",
   "metadata": {
    "execution": {
     "iopub.execute_input": "2024-09-25T07:00:02.773107Z",
     "iopub.status.busy": "2024-09-25T07:00:02.772326Z",
     "iopub.status.idle": "2024-09-25T07:00:02.804947Z",
     "shell.execute_reply": "2024-09-25T07:00:02.803741Z",
     "shell.execute_reply.started": "2024-09-25T07:00:02.773058Z"
    },
    "scrolled": true
   },
   "outputs": [
    {
     "name": "stdout",
     "output_type": "stream",
     "text": [
      "Answer the question based only on the following context:\n",
      "\n",
      "# Kill 'em All: Phantom Lord\n",
      "\n",
      "Sound is ripping through your ears\n",
      "The deafening sound of metal nears\n",
      "Your bodies waiting for his whips\n",
      "The taste of leather on your lips\n",
      "Hear the cry of war\n",
      "Louder than before\n",
      "With his sword in hand\n",
      "To control the land\n",
      "Crushing metal strikes\n",
      "On this frightening night\n",
      "Fall onto your knees\n",
      "For the phantom lord\n",
      "Victims falling under chains\n",
      "You hear them crying dying pains\n",
      "The fist of terrors breaking through\n",
      "Now there's nothing you can do\n",
      "Hear the cry of war\n",
      "Louder than before\n",
      "With his sword in hand\n",
      "To control the land\n",
      "Crushing metal strikes\n",
      "On this frightening night\n",
      "Fall onto your knees\n",
      "For the phantom lord\n",
      "The leather armies have prevailed\n",
      "The phantom lord has never failed\n",
      "Smoke is lifting from the ground\n",
      "The rising volume metal sound\n",
      "Hear the cry of war\n",
      "Louder than before\n",
      "With his sword in hand\n",
      "To control the land\n",
      "Crushing metal strikes\n",
      "On this frightening night\n",
      "Fall onto your knees\n",
      "For the phantom lord\n",
      "Fall to your knees\n",
      "And bow to the phantom lord\n",
      "\n",
      "---\n",
      "\n",
      " # And Justice For All..: One\n",
      "\n",
      "I Can't Remember Anything\n",
      "Can't Tell If this Is True or Dream\n",
      "Deep down Inside I Feel to Scream\n",
      "this Terrible Silence Stops Me\n",
      "Now That the War Is Through with Me\n",
      "I'm Waking up I Can Not See\n",
      "That There Is Not Much Left of Me\n",
      "Nothing Is Real but Pain Now\n",
      "Hold My Breath as I Wish for Death\n",
      "Oh Please God,wake Me\n",
      "Back in the Womb its Much Too Real\n",
      "in Pumps Life That I must Feel\n",
      "but Can't Look Forward to Reveal\n",
      "Look to the Time When I'll Live\n",
      "Fed Through the Tube That Sticks in Me\n",
      "Just like a Wartime Novelty\n",
      "Tied to Machines That Make Me Be\n",
      "Cut this Life off from Me\n",
      "Hold My Breath as I Wish for Death\n",
      "Oh Please God,wake Me\n",
      "Now the World Is Gone I'm Just One\n",
      "Oh God,help Me Hold My Breath as I Wish for Death\n",
      "Oh Please God Help Me\n",
      "Darkness\n",
      "Imprisoning Me\n",
      "All That I See\n",
      "Absolute Horror\n",
      "I Cannot Live\n",
      "I Cannot Die\n",
      "Trapped in Myself\n",
      "Body My Holding Cell\n",
      "Landmine\n",
      "Has Taken My Sight\n",
      "Taken My Speech\n",
      "Taken My Hearing\n",
      "Taken My Arms\n",
      "Taken My Legs\n",
      "Taken My Soul\n",
      "Left Me with Life in Hell\n",
      "\n",
      "---\n",
      "\n",
      " # Kill 'em All: No Remorse\n",
      "\n",
      "No mercy for what we are doing\n",
      "No thought to even what we have done\n",
      "We don't need to feel the sorrow\n",
      "No remorse for the helpless one\n",
      "War without end\n",
      "No remorse no repent\n",
      "We don't care what it meant\n",
      "Another day another death\n",
      "Another sorrow another breath\n",
      "No remorse no repent\n",
      "We don't care what it meant\n",
      "Another day another death\n",
      "Another sorrow another breath\n",
      "Blood feeds the war machine\n",
      "As it eats its way across the land\n",
      "We don't need to feel the sorrow\n",
      "No remorse is the one command\n",
      "War without end\n",
      "No remorse no repent\n",
      "We don't care what it meant\n",
      "Another day another death\n",
      "Another sorrow another breath\n",
      "No remorse no repent\n",
      "We don't care what it meant\n",
      "Another day another death\n",
      "Another sorrow another breath\n",
      "Only the strong survive\n",
      "No one to save the weaker race\n",
      "We are ready to kill all comers\n",
      "Like a loaded gun right at your face\n",
      "War without end\n",
      "No remorse no repent\n",
      "We don't care what it meant\n",
      "Another day another death\n",
      "Another sorrow another breath\n",
      "No remorse no repent\n",
      "We don't care what it meant\n",
      "Another day another death\n",
      "Another sorrow another breath\n",
      "Attack\n",
      "Bullets are flying\n",
      "People are dying\n",
      "With madness surrounding all hell's breaking loose\n",
      "Soldiers are hounding\n",
      "Bodies are mounting\n",
      "Cannons are shouting to take their abuse\n",
      "With war machines going\n",
      "Blood starts to flowing\n",
      "No mercy given to anyone hear\n",
      "The furious fighting\n",
      "Swords are like lighting\n",
      "It all becomes frightening to you\n",
      "Know death is near\n",
      "No remorse\n",
      "\n",
      "---\n",
      "\n",
      " # S&m: One\n",
      "\n",
      "I can't remember anything\n",
      "Can't tell if this is true or dream\n",
      "Deep down\n",
      "inside I feel to scream\n",
      "This terrible silence stops me\n",
      "Now that the war is through with me\n",
      "I'm waking up, I cannot see\n",
      "That\n",
      "there's not much left of me\n",
      "Nothing is real but pain now\n",
      "Hold my breath as I wish for death\n",
      "Oh please God, wake me\n",
      "Back in the womb it's much to real\n",
      "In pumps life that I must feel\n",
      "But\n",
      "can't look forward to reveal\n",
      "Look to the time when I lived\n",
      "Fed through the tube that sticks in me\n",
      "Just like a wartime novelty\n",
      "Tied\n",
      "to machines that make me be\n",
      "Cut this shit out from me\n",
      "Hold my breath as I wish for death\n",
      "Oh please God, wake me\n",
      "Please God\n",
      "wake me!\n",
      "Now the world is gone I'm just one\n",
      "Oh God, help me\n",
      "Hold my breath as I\n",
      "wish for death\n",
      "Oh please God, help me, help me!!\n",
      "Darkness\n",
      "Imprisoning me\n",
      "All that I see\n",
      "Absolute horror\n",
      "I cannot\n",
      "live\n",
      "I cannot die\n",
      "Trapped in myself\n",
      "Body my holding cell\n",
      "Landmine\n",
      "Has taken my sight\n",
      "Taken my speech\n",
      "Taken my\n",
      "hearing\n",
      "Taken my arms\n",
      "Taken my legs\n",
      "Taken my soul\n",
      "Left me with life\n",
      "in hell \n",
      "no, NO, NO NO NO NO NO!!!\n",
      "\n",
      "---\n",
      "\n",
      " # The Black Album: My Friend Of Misery\n",
      "\n",
      "You just stood there screaming\n",
      "fearing no one was listening to you\n",
      "they say the empty can rattles the most\n",
      "the sound of your voice must soothe you\n",
      "hearing only what you want to hear\n",
      "and knowing only what you've heard\n",
      "you you're smothered in tragedy\n",
      "you're out to save the world\n",
      "misery\n",
      "you insist that the weight of the world\n",
      "should be on your shoulders\n",
      "misery\n",
      "there's much more to life than what you see\n",
      "my friend of misery\n",
      "you still stood there screaming\n",
      "no one caring about these words you tell\n",
      "my friend before your voice is gone\n",
      "one man's fun is another's hell\n",
      "these times are sent to try men's souls\n",
      "but something's wrong with all you see\n",
      "you you'll take it on all yourself\n",
      "remember\n",
      "misery loves company\n",
      "misery\n",
      "you insist that the weight of the world\n",
      "should be on your shoulders\n",
      "misery\n",
      "there's much more to life than what you see\n",
      "my friend of misery\n",
      "you just stood there creaming\n",
      "my friend of misery\n",
      "\n",
      "---\n",
      "\n",
      "\n",
      "\n",
      "Question: Which song is about a guy who is so badly wounded in war so he no longer has any senses?\n"
     ]
    }
   ],
   "source": [
    "#| echo: true\n",
    "def generate_prompt(query):\n",
    "    return (\n",
    "        \"Answer the question based only on the following context:\\n\\n\"\n",
    "        + get_relevant_texts(query)\n",
    "        + \"\\n\\nQuestion: \"\n",
    "        + query\n",
    "    )\n",
    "\n",
    "print(generate_prompt(query))"
   ]
  },
  {
   "cell_type": "markdown",
   "id": "e9b5aff4-0046-4d40-b428-60356a856750",
   "metadata": {},
   "source": [
    "## Retrieval Augmented Generation (RAG)"
   ]
  },
  {
   "cell_type": "code",
   "execution_count": 19,
   "id": "4eba26ab-13a7-493c-b3a2-6928faf5431b",
   "metadata": {
    "execution": {
     "iopub.execute_input": "2024-09-25T07:00:02.807065Z",
     "iopub.status.busy": "2024-09-25T07:00:02.806472Z",
     "iopub.status.idle": "2024-09-25T07:00:02.813971Z",
     "shell.execute_reply": "2024-09-25T07:00:02.812705Z",
     "shell.execute_reply.started": "2024-09-25T07:00:02.807017Z"
    }
   },
   "outputs": [],
   "source": [
    "#| echo: true\n",
    "def generate_response(query):\n",
    "    prompt = generate_prompt(query)\n",
    "    response = llm.create_chat_completion(\n",
    "        messages=[{\"role\": \"user\", \"content\": prompt}], \n",
    "        temperature=0,\n",
    "        seed=42\n",
    "    )\n",
    "    return response[\"choices\"][0][\"message\"][\"content\"]"
   ]
  },
  {
   "cell_type": "markdown",
   "id": "78d75343-d520-461f-a952-0bc7a7870d50",
   "metadata": {},
   "source": [
    "## Retrieval Augmented Generation (RAG)"
   ]
  },
  {
   "cell_type": "code",
   "execution_count": 20,
   "id": "a86366f6-741a-4542-9de3-1f4d43065ad3",
   "metadata": {
    "execution": {
     "iopub.execute_input": "2024-09-25T07:00:02.816197Z",
     "iopub.status.busy": "2024-09-25T07:00:02.815610Z",
     "iopub.status.idle": "2024-09-25T07:00:05.359370Z",
     "shell.execute_reply": "2024-09-25T07:00:05.358576Z",
     "shell.execute_reply.started": "2024-09-25T07:00:02.816148Z"
    }
   },
   "outputs": [
    {
     "name": "stdout",
     "output_type": "stream",
     "text": [
      "The song that is about a guy who is so badly wounded in war that he no longer has any senses is \"And Justice For All..: One\". The lyrics mention that the person has lost their sight, speech, hearing, arms, legs, and soul, and is left with life in hell.\n"
     ]
    }
   ],
   "source": [
    "#| echo: true\n",
    "query = \"Which song is about a guy who is so badly wounded in war so he no longer has any senses?\"\n",
    "print(generate_response(query))"
   ]
  },
  {
   "cell_type": "markdown",
   "id": "ec7df84c-7aa1-45d1-86d2-4864ffcbd9e0",
   "metadata": {},
   "source": [
    "## Retrieval Augmented Generation (RAG)"
   ]
  },
  {
   "cell_type": "code",
   "execution_count": 21,
   "id": "b9e95cce-6b01-4a16-8131-b494b6b5fff0",
   "metadata": {
    "execution": {
     "iopub.execute_input": "2024-09-25T07:00:05.361727Z",
     "iopub.status.busy": "2024-09-25T07:00:05.361472Z",
     "iopub.status.idle": "2024-09-25T07:00:09.843450Z",
     "shell.execute_reply": "2024-09-25T07:00:09.842030Z",
     "shell.execute_reply.started": "2024-09-25T07:00:05.361710Z"
    }
   },
   "outputs": [
    {
     "name": "stdout",
     "output_type": "stream",
     "text": [
      "The song that is about a boy who is having nightmares is \"The Black Album: Enter Sandman\". The lyrics mention \"Say your prayers little one\", \"tuck you in warm within\", \"keep you free from sin till the sandman he comes\", \"sleep with one eye open gripping your pillow tight\", \"dreams of war dreams of liars dreams of dragon's fire and of things that will bite\", and \"now I lay me down to sleep pray the lord my soul to keep\". These lines indicate that the song is about a child having nightmares and fearing the dark.\n"
     ]
    }
   ],
   "source": [
    "#| echo: true\n",
    "query = \"Which song is about a boy who is having nightmares?\"\n",
    "print(generate_response(query))"
   ]
  },
  {
   "cell_type": "markdown",
   "id": "5780e3d3-051e-48eb-86ea-09215a2d9771",
   "metadata": {},
   "source": [
    "## Retrieval Augmented Generation (RAG)"
   ]
  },
  {
   "cell_type": "markdown",
   "id": "aca44ce1-df00-4dc3-9492-6f808f5acf88",
   "metadata": {},
   "source": [
    "[https://alonsosilva-song-finder-bot.hf.space](https://alonsosilva-song-finder-bot.hf.space)"
   ]
  },
  {
   "cell_type": "code",
   "execution_count": 22,
   "id": "86e8e0b7-22ad-438d-96f1-03cfc2ac9561",
   "metadata": {
    "execution": {
     "iopub.execute_input": "2024-09-25T07:00:09.845729Z",
     "iopub.status.busy": "2024-09-25T07:00:09.845097Z",
     "iopub.status.idle": "2024-09-25T07:00:09.853220Z",
     "shell.execute_reply": "2024-09-25T07:00:09.852307Z",
     "shell.execute_reply.started": "2024-09-25T07:00:09.845677Z"
    }
   },
   "outputs": [
    {
     "data": {
      "text/html": [
       "\n",
       "        <iframe\n",
       "            width=\"850\"\n",
       "            height=\"450\"\n",
       "            src=\"https://alonsosilva-song-finder-bot.hf.space\"\n",
       "            frameborder=\"0\"\n",
       "            allowfullscreen\n",
       "            \n",
       "        ></iframe>\n",
       "        "
      ],
      "text/plain": [
       "<IPython.lib.display.IFrame at 0x7c5721479540>"
      ]
     },
     "execution_count": 22,
     "metadata": {},
     "output_type": "execute_result"
    }
   ],
   "source": [
    "IFrame(\"https://alonsosilva-song-finder-bot.hf.space\", width=850, height=450)"
   ]
  },
  {
   "cell_type": "markdown",
   "id": "55754c0e-379e-4395-9511-300d4d85ef73",
   "metadata": {},
   "source": [
    "## Retrieval Augmented Generation (RAG)"
   ]
  },
  {
   "cell_type": "code",
   "execution_count": 23,
   "id": "0dab57df-5969-4187-918c-2625c0a1fff2",
   "metadata": {
    "execution": {
     "iopub.execute_input": "2024-09-25T07:00:09.855320Z",
     "iopub.status.busy": "2024-09-25T07:00:09.854594Z",
     "iopub.status.idle": "2024-09-25T07:00:12.064603Z",
     "shell.execute_reply": "2024-09-25T07:00:12.064056Z",
     "shell.execute_reply.started": "2024-09-25T07:00:09.855268Z"
    }
   },
   "outputs": [
    {
     "name": "stdout",
     "output_type": "stream",
     "text": [
      "Based on the context provided, the Black Album has 5 songs:\n",
      "\n",
      "1. My Friend Of Misery\n",
      "2. Nothing Else Matters\n",
      "3. Don't Tread On Me\n",
      "4. Sad But True\n",
      "5. Holier Than Thou\n"
     ]
    }
   ],
   "source": [
    "#| echo: true\n",
    "query = \"How many songs does the black album have?\"\n",
    "print(generate_response(query))"
   ]
  },
  {
   "cell_type": "markdown",
   "id": "6f1f2cdf-2a42-4cb4-81c5-227f4dced78e",
   "metadata": {},
   "source": [
    "## Retrieval Augmented Generation (RAG)"
   ]
  },
  {
   "cell_type": "code",
   "execution_count": 24,
   "id": "d15afb6a-edf4-42f3-bf3c-b8b6d40c7fb2",
   "metadata": {
    "execution": {
     "iopub.execute_input": "2024-09-25T07:00:12.065506Z",
     "iopub.status.busy": "2024-09-25T07:00:12.065317Z",
     "iopub.status.idle": "2024-09-25T07:00:12.069971Z",
     "shell.execute_reply": "2024-09-25T07:00:12.069551Z",
     "shell.execute_reply.started": "2024-09-25T07:00:12.065489Z"
    }
   },
   "outputs": [
    {
     "data": {
      "text/plain": [
       "[\"Don't Tread On Me\",\n",
       " 'Nothing Else Matters',\n",
       " 'Through The Never',\n",
       " 'My Friend Of Misery',\n",
       " 'Wherever I May Roam',\n",
       " 'The Unforgiven',\n",
       " 'The Struggle Within',\n",
       " 'Of Wolf And Man',\n",
       " 'The God That Failed',\n",
       " 'Enter Sandman',\n",
       " 'Sad But True',\n",
       " 'Holier Than Thou']"
      ]
     },
     "execution_count": 24,
     "metadata": {},
     "output_type": "execute_result"
    }
   ],
   "source": [
    "#| echo: true\n",
    "df.filter(pl.col(\"Album\") == \"The Black Album\")[\"Song\"].to_list()"
   ]
  },
  {
   "cell_type": "markdown",
   "id": "cb74c2d6-359d-4f17-86af-ee8d51a78bdc",
   "metadata": {},
   "source": [
    "# Graph-only retrieval"
   ]
  },
  {
   "cell_type": "markdown",
   "id": "210005f7-43b6-4369-a3e9-6e76ece157c7",
   "metadata": {},
   "source": [
    "## Graph-only retrieval"
   ]
  },
  {
   "cell_type": "code",
   "execution_count": 25,
   "id": "69a93028-05e3-41da-86cc-236243c1eeea",
   "metadata": {
    "execution": {
     "iopub.execute_input": "2024-09-25T07:00:29.471926Z",
     "iopub.status.busy": "2024-09-25T07:00:29.471224Z",
     "iopub.status.idle": "2024-09-25T07:00:29.624677Z",
     "shell.execute_reply": "2024-09-25T07:00:29.623795Z",
     "shell.execute_reply.started": "2024-09-25T07:00:29.471866Z"
    }
   },
   "outputs": [],
   "source": [
    "#| echo: true\n",
    "# Initialize graph database\n",
    "import shutil\n",
    "import kuzu\n",
    "\n",
    "shutil.rmtree(\"test_kuzudb\", ignore_errors=True)\n",
    "db = kuzu.Database(\"test_kuzudb\")\n",
    "conn = kuzu.Connection(db)"
   ]
  },
  {
   "cell_type": "markdown",
   "id": "5023e314-f54a-411e-ab5d-94a1b57b030a",
   "metadata": {},
   "source": [
    "## Graph-only retrieval"
   ]
  },
  {
   "cell_type": "code",
   "execution_count": 26,
   "id": "cadab962-0b2f-4f5c-a004-d8c312ea7480",
   "metadata": {
    "execution": {
     "iopub.execute_input": "2024-09-25T07:00:34.319490Z",
     "iopub.status.busy": "2024-09-25T07:00:34.318861Z",
     "iopub.status.idle": "2024-09-25T07:00:34.414884Z",
     "shell.execute_reply": "2024-09-25T07:00:34.413362Z",
     "shell.execute_reply.started": "2024-09-25T07:00:34.319435Z"
    }
   },
   "outputs": [],
   "source": [
    "#| echo: true\n",
    "# Create schema\n",
    "conn.execute(\"CREATE NODE TABLE ARTIST(name STRING, PRIMARY KEY (name))\")\n",
    "conn.execute(\"CREATE NODE TABLE ALBUM(name STRING, PRIMARY KEY (name))\")\n",
    "conn.execute(\"CREATE NODE TABLE SONG(ID SERIAL, name STRING, lyrics STRING, PRIMARY KEY(ID))\")\n",
    "conn.execute(\"CREATE REL TABLE IN_ALBUM(FROM SONG TO ALBUM)\")\n",
    "conn.execute(\"CREATE REL TABLE FROM_ARTIST(FROM ALBUM TO ARTIST)\");"
   ]
  },
  {
   "cell_type": "markdown",
   "id": "139ea1c1-1691-4e9f-9b3e-ed563b3688ff",
   "metadata": {},
   "source": [
    "## Graph-only retrieval"
   ]
  },
  {
   "cell_type": "code",
   "execution_count": 27,
   "id": "25b00787-5426-4573-838a-98dc1c5079e2",
   "metadata": {
    "execution": {
     "iopub.execute_input": "2024-09-25T07:00:36.258528Z",
     "iopub.status.busy": "2024-09-25T07:00:36.257942Z",
     "iopub.status.idle": "2024-09-25T07:00:37.802105Z",
     "shell.execute_reply": "2024-09-25T07:00:37.800410Z",
     "shell.execute_reply.started": "2024-09-25T07:00:36.258474Z"
    },
    "scrolled": true
   },
   "outputs": [],
   "source": [
    "#| echo: true\n",
    "# Insert nodes\n",
    "for artist in df[\"Artist\"].unique():\n",
    "    conn.execute(f\"CREATE (artist:ARTIST {{name: '{artist}'}})\")\n",
    "\n",
    "for album in df[\"Album\"].unique():\n",
    "    conn.execute(f\"\"\"CREATE (album:ALBUM {{name: \"{album}\"}})\"\"\")\n",
    "\n",
    "for song, lyrics in df.select([\"Song\", \"text\"]).unique().rows():\n",
    "    replaced_lyrics = lyrics.replace('\"', \"'\")\n",
    "    conn.execute(\n",
    "        f\"\"\"CREATE (song:SONG {{name: \"{song}\", lyrics: \"{replaced_lyrics}\"}})\"\"\"\n",
    "    )"
   ]
  },
  {
   "cell_type": "markdown",
   "id": "651ec689-3c52-4371-80ac-a97e6646901f",
   "metadata": {},
   "source": [
    "## Graph-only retrieval"
   ]
  },
  {
   "cell_type": "code",
   "execution_count": 28,
   "id": "c2d37055-54bd-44bb-ad06-8156f196954a",
   "metadata": {
    "execution": {
     "iopub.execute_input": "2024-09-25T07:00:43.115165Z",
     "iopub.status.busy": "2024-09-25T07:00:43.114562Z",
     "iopub.status.idle": "2024-09-25T07:00:44.903437Z",
     "shell.execute_reply": "2024-09-25T07:00:44.901689Z",
     "shell.execute_reply.started": "2024-09-25T07:00:43.115111Z"
    }
   },
   "outputs": [],
   "source": [
    "#| echo: true\n",
    "# Insert edges\n",
    "for song, album, lyrics in df.select([\"Song\", \"Album\", \"text\"]).rows():\n",
    "    replaced_lyrics = lyrics.replace('\"', \"'\")\n",
    "    conn.execute(\n",
    "        f\"\"\"\n",
    "        MATCH (song:SONG), (album:ALBUM) \n",
    "        WHERE song.name = \"{song}\" AND song.lyrics = \"{replaced_lyrics}\" AND album.name = \"{album}\"\n",
    "        CREATE (song)-[:IN_ALBUM]->(album)\n",
    "        \"\"\"\n",
    "    )\n",
    "\n",
    "for album, artist in df.select([\"Album\", \"Artist\"]).unique().rows():\n",
    "  conn.execute(\n",
    "    f\"\"\"\n",
    "    MATCH (album:ALBUM), (artist:ARTIST) WHERE album.name = \"{album}\" AND artist.name = \"{artist}\"\n",
    "    CREATE (album)-[:FROM_ARTIST]->(artist)\n",
    "    \"\"\"\n",
    "  )"
   ]
  },
  {
   "cell_type": "markdown",
   "id": "e632ab55-cd96-4b86-8047-ec4d1e9c0972",
   "metadata": {},
   "source": [
    "## Graph-only retrieval"
   ]
  },
  {
   "cell_type": "code",
   "execution_count": 29,
   "id": "7f86ca78-cd9a-441b-99ae-e03fa63de250",
   "metadata": {
    "execution": {
     "iopub.execute_input": "2024-09-25T07:00:48.072092Z",
     "iopub.status.busy": "2024-09-25T07:00:48.071268Z",
     "iopub.status.idle": "2024-09-25T07:00:48.105110Z",
     "shell.execute_reply": "2024-09-25T07:00:48.103349Z",
     "shell.execute_reply.started": "2024-09-25T07:00:48.072012Z"
    }
   },
   "outputs": [
    {
     "data": {
      "text/plain": [
       "['Sad But True',\n",
       " 'My Friend Of Misery',\n",
       " 'Holier Than Thou',\n",
       " \"Don't Tread On Me\",\n",
       " 'Through The Never',\n",
       " 'The God That Failed',\n",
       " 'Enter Sandman',\n",
       " 'Nothing Else Matters',\n",
       " 'Of Wolf And Man',\n",
       " 'The Unforgiven',\n",
       " 'Wherever I May Roam',\n",
       " 'The Struggle Within']"
      ]
     },
     "execution_count": 29,
     "metadata": {},
     "output_type": "execute_result"
    }
   ],
   "source": [
    "#| echo: true\n",
    "response = conn.execute(\n",
    "    \"\"\"\n",
    "    MATCH (a:ALBUM {name: 'The Black Album'})<-[:IN_ALBUM]-(s:SONG) RETURN s.name\n",
    "    \"\"\"\n",
    ")\n",
    "\n",
    "df_response = response.get_as_pl()\n",
    "\n",
    "df_response[\"s.name\"].to_list()"
   ]
  },
  {
   "cell_type": "code",
   "execution_count": 30,
   "id": "7eff40cf-607e-4194-a97e-e0ebf60c7b44",
   "metadata": {
    "execution": {
     "iopub.execute_input": "2024-09-25T07:00:49.504070Z",
     "iopub.status.busy": "2024-09-25T07:00:49.503447Z",
     "iopub.status.idle": "2024-09-25T07:00:49.524343Z",
     "shell.execute_reply": "2024-09-25T07:00:49.522810Z",
     "shell.execute_reply.started": "2024-09-25T07:00:49.504017Z"
    }
   },
   "outputs": [],
   "source": [
    "from dotenv import find_dotenv, load_dotenv\n",
    "\n",
    "_ = load_dotenv(find_dotenv())"
   ]
  },
  {
   "cell_type": "markdown",
   "id": "ebf7370a-a236-489d-863d-4cba277b1069",
   "metadata": {},
   "source": [
    "## text2cypher"
   ]
  },
  {
   "cell_type": "code",
   "execution_count": 31,
   "id": "7e2e25eb-1ae1-4e31-8ac3-c1a400e251fb",
   "metadata": {
    "execution": {
     "iopub.execute_input": "2024-09-25T07:00:50.514091Z",
     "iopub.status.busy": "2024-09-25T07:00:50.513568Z",
     "iopub.status.idle": "2024-09-25T07:00:53.782222Z",
     "shell.execute_reply": "2024-09-25T07:00:53.780578Z",
     "shell.execute_reply.started": "2024-09-25T07:00:50.514042Z"
    }
   },
   "outputs": [
    {
     "name": "stdout",
     "output_type": "stream",
     "text": [
      "Logged in as Weights & Biases user: alonso-silva.\n",
      "View Weave data at https://wandb.ai/alonso-silva/pydata_paris/weave\n"
     ]
    },
    {
     "data": {
      "text/plain": [
       "<weave.trace.weave_client.WeaveClient at 0x7c543d72a4a0>"
      ]
     },
     "execution_count": 31,
     "metadata": {},
     "output_type": "execute_result"
    }
   ],
   "source": [
    "#| echo: true\n",
    "import weave\n",
    "weave.init(\"pydata_paris\")"
   ]
  },
  {
   "cell_type": "markdown",
   "id": "125a2b17-5242-48eb-bf12-fe3456e2c622",
   "metadata": {},
   "source": [
    "## text2cypher"
   ]
  },
  {
   "cell_type": "code",
   "execution_count": 32,
   "id": "31dac59f-ac63-4171-b4e9-30b5831d2fb3",
   "metadata": {
    "execution": {
     "iopub.execute_input": "2024-09-25T07:00:56.250564Z",
     "iopub.status.busy": "2024-09-25T07:00:56.249610Z",
     "iopub.status.idle": "2024-09-25T07:00:56.437991Z",
     "shell.execute_reply": "2024-09-25T07:00:56.436685Z",
     "shell.execute_reply.started": "2024-09-25T07:00:56.250505Z"
    }
   },
   "outputs": [],
   "source": [
    "#| echo: true\n",
    "import os\n",
    "from typing import Optional\n",
    "\n",
    "from langchain_community.chat_models import ChatOpenAI\n",
    "\n",
    "class ChatOpenRouter(ChatOpenAI):\n",
    "    openai_api_base: str\n",
    "    openai_api_key: str\n",
    "    model_name: str\n",
    "\n",
    "    def __init__(\n",
    "        self,\n",
    "        model_name: str,\n",
    "        openai_api_key: Optional[str] = None,\n",
    "        openai_api_base: str = \"https://openrouter.ai/api/v1\",\n",
    "        **kwargs,\n",
    "    ):\n",
    "        openai_api_key = os.getenv(\"OPENROUTER_API_KEY\")\n",
    "        super().__init__(\n",
    "            openai_api_base=openai_api_base,\n",
    "            openai_api_key=openai_api_key,\n",
    "            model_name=model_name,\n",
    "            **kwargs,\n",
    "        )\n",
    "\n",
    "llm_openrouter = ChatOpenRouter(model_name=\"meta-llama/llama-3.1-405b-instruct\")"
   ]
  },
  {
   "cell_type": "code",
   "execution_count": 33,
   "id": "5334c304-08af-41a2-900e-193491a0a34d",
   "metadata": {
    "execution": {
     "iopub.execute_input": "2024-09-25T07:00:57.630763Z",
     "iopub.status.busy": "2024-09-25T07:00:57.630198Z",
     "iopub.status.idle": "2024-09-25T07:00:57.636777Z",
     "shell.execute_reply": "2024-09-25T07:00:57.635422Z",
     "shell.execute_reply.started": "2024-09-25T07:00:57.630711Z"
    }
   },
   "outputs": [],
   "source": [
    "# #| echo: true\n",
    "# from langchain_community.graphs import KuzuGraph\n",
    "\n",
    "# graph = KuzuGraph(db)\n",
    "# print(graph.get_schema)"
   ]
  },
  {
   "cell_type": "markdown",
   "id": "7f2532ad-9253-476e-8f43-da08c95f0d34",
   "metadata": {},
   "source": [
    "## Graph-only retrieval"
   ]
  },
  {
   "cell_type": "code",
   "execution_count": 34,
   "id": "b117560e-a7ca-4388-95af-59a231deb309",
   "metadata": {
    "execution": {
     "iopub.execute_input": "2024-09-25T07:00:59.169283Z",
     "iopub.status.busy": "2024-09-25T07:00:59.168719Z",
     "iopub.status.idle": "2024-09-25T07:00:59.457909Z",
     "shell.execute_reply": "2024-09-25T07:00:59.457005Z",
     "shell.execute_reply.started": "2024-09-25T07:00:59.169231Z"
    }
   },
   "outputs": [],
   "source": [
    "#| echo: true\n",
    "from langchain.chains import KuzuQAChain\n",
    "from langchain_community.graphs import KuzuGraph\n",
    "\n",
    "graph = KuzuGraph(db)\n",
    "chain = KuzuQAChain.from_llm(\n",
    "    cypher_llm=llm_openrouter,\n",
    "    qa_llm=llm_openrouter,\n",
    "    graph=graph,\n",
    "    verbose=True,\n",
    ")"
   ]
  },
  {
   "cell_type": "markdown",
   "id": "15193937-1130-4de3-82e3-177d77736c2b",
   "metadata": {},
   "source": [
    "## Graph-only retrieval"
   ]
  },
  {
   "cell_type": "code",
   "execution_count": 35,
   "id": "5caa9ea2-632e-4221-80b2-53c1bad65f78",
   "metadata": {
    "execution": {
     "iopub.execute_input": "2024-09-25T07:01:04.877623Z",
     "iopub.status.busy": "2024-09-25T07:01:04.877041Z",
     "iopub.status.idle": "2024-09-25T07:01:13.373360Z",
     "shell.execute_reply": "2024-09-25T07:01:13.372510Z",
     "shell.execute_reply.started": "2024-09-25T07:01:04.877570Z"
    }
   },
   "outputs": [
    {
     "name": "stdout",
     "output_type": "stream",
     "text": [
      "\n",
      "\n",
      "\u001b[1m> Entering new KuzuQAChain chain...\u001b[0m\n",
      "Generated Cypher:\n",
      "\u001b[32;1m\u001b[1;3mMATCH (a:ALBUM {name: 'The Black Album'})-[:FROM_ARTIST]-(), (s:SONG)-[:IN_ALBUM]->(a) RETURN COUNT(s)\u001b[0m\n",
      "Full Context:\n",
      "\u001b[32;1m\u001b[1;3m[{'COUNT(s._ID)': 12}]\u001b[0m\n",
      "\n",
      "\u001b[1m> Finished chain.\u001b[0m\n"
     ]
    },
    {
     "data": {
      "text/plain": [
       "{'query': 'How many songs does the black album have?',\n",
       " 'result': 'The Black Album has 12 songs'}"
      ]
     },
     "execution_count": 35,
     "metadata": {},
     "output_type": "execute_result"
    }
   ],
   "source": [
    "#| echo: true\n",
    "chain.invoke(\"How many songs does the black album have?\")"
   ]
  },
  {
   "cell_type": "markdown",
   "id": "a885883f-7f36-4a2e-b16e-09a12f642998",
   "metadata": {},
   "source": [
    "## Graph-only retrieval"
   ]
  },
  {
   "cell_type": "code",
   "execution_count": 36,
   "id": "08cbaacd-9503-4d2a-ba2e-05c1a4cab340",
   "metadata": {
    "execution": {
     "iopub.execute_input": "2024-09-25T07:01:15.890222Z",
     "iopub.status.busy": "2024-09-25T07:01:15.889624Z",
     "iopub.status.idle": "2024-09-25T07:01:18.682294Z",
     "shell.execute_reply": "2024-09-25T07:01:18.681461Z",
     "shell.execute_reply.started": "2024-09-25T07:01:15.890167Z"
    }
   },
   "outputs": [
    {
     "name": "stdout",
     "output_type": "stream",
     "text": [
      "\n",
      "\n",
      "\u001b[1m> Entering new KuzuQAChain chain...\u001b[0m\n",
      "Generated Cypher:\n",
      "\u001b[32;1m\u001b[1;3mMATCH (:ALBUM {name: 'The Black Album'})-[:IN_ALBUM]->(song:SONG) RETURN song.name\u001b[0m\n",
      "Full Context:\n",
      "\u001b[32;1m\u001b[1;3m[]\u001b[0m\n",
      "\n",
      "\u001b[1m> Finished chain.\u001b[0m\n"
     ]
    },
    {
     "data": {
      "text/plain": [
       "{'query': 'Which songs does the black album have?',\n",
       " 'result': \"I don't know the answer.\"}"
      ]
     },
     "execution_count": 36,
     "metadata": {},
     "output_type": "execute_result"
    }
   ],
   "source": [
    "#| echo: true\n",
    "chain.invoke(\"Which songs does the black album have?\")"
   ]
  },
  {
   "cell_type": "markdown",
   "id": "1501d8f6-1bfc-4a5f-a014-f887fd766801",
   "metadata": {},
   "source": [
    "## Graph-only retrieval"
   ]
  },
  {
   "cell_type": "code",
   "execution_count": 37,
   "id": "5a0b01ea-b49f-417f-a313-82f36e595160",
   "metadata": {
    "execution": {
     "iopub.execute_input": "2024-09-25T07:01:24.463393Z",
     "iopub.status.busy": "2024-09-25T07:01:24.462797Z",
     "iopub.status.idle": "2024-09-25T07:01:24.472522Z",
     "shell.execute_reply": "2024-09-25T07:01:24.470398Z",
     "shell.execute_reply.started": "2024-09-25T07:01:24.463342Z"
    }
   },
   "outputs": [],
   "source": [
    "#| echo: true\n",
    "def generate_kuzu_prompt(user_query):\n",
    "    return \"\"\"Task: Generate Kùzu Cypher statement to query a graph database.\n",
    "\n",
    "Instructions:\n",
    "Generate the Kùzu dialect of Cypher with the following rules in mind:\n",
    "1. Do not omit the relationship pattern. Always use `()-[]->()` instead of `()->()`.\n",
    "2. Do not include triple backticks ``` in your response. Return only Cypher.\n",
    "3. Do not return any notes or comments in your response.\n",
    "\n",
    "\n",
    "Use only the provided relationship types and properties in the schema.\n",
    "Do not use any other relationship types or properties that are not provided.\n",
    "Schema:\\n\"\"\" + graph.get_schema + \"\"\"\\nExample:\n",
    "The question is:\\n\"Which songs does the load album have?\"\n",
    "MATCH (a:ALBUM {name: 'Load'})<-[:IN_ALBUM]-(s:SONG) RETURN s.name\n",
    "\n",
    "Note: Do not include any explanations or apologies in your responses.\n",
    "Do not respond to any questions that might ask anything else than for you to construct a Cypher statement.\n",
    "Do not include any text except the generated Cypher statement.\n",
    "\n",
    "The question is:\\n\"\"\" + user_query"
   ]
  },
  {
   "cell_type": "markdown",
   "id": "b5c25428-f24c-4def-857e-62f89050b417",
   "metadata": {},
   "source": [
    "## Graph-only retrieval"
   ]
  },
  {
   "cell_type": "code",
   "execution_count": 38,
   "id": "86d34379-83fe-49a5-8331-0e225f720eb5",
   "metadata": {
    "execution": {
     "iopub.execute_input": "2024-09-25T07:01:25.992893Z",
     "iopub.status.busy": "2024-09-25T07:01:25.992360Z",
     "iopub.status.idle": "2024-09-25T07:01:26.001131Z",
     "shell.execute_reply": "2024-09-25T07:01:25.999450Z",
     "shell.execute_reply.started": "2024-09-25T07:01:25.992843Z"
    }
   },
   "outputs": [],
   "source": [
    "#| echo: true\n",
    "def generate_final_prompt(query,cypher_query,col_name,_values):\n",
    "    return f\"\"\"You are an assistant that helps to form nice and human understandable answers.\n",
    "The information part contains the provided information that you must use to construct an answer.\n",
    "The provided information is authoritative, you must never doubt it or try to use your internal knowledge to correct it.\n",
    "Make the answer sound as a response to the question. Do not mention that you based the result on the given information.\n",
    "Here is an example:\n",
    "\n",
    "Question: Which managers own Neo4j stocks?\n",
    "Context:[manager:CTL LLC, manager:JANE STREET GROUP LLC]\n",
    "Helpful Answer: CTL LLC, JANE STREET GROUP LLC owns Neo4j stocks.\n",
    "\n",
    "Follow this example when generating answers.\n",
    "If the provided information is empty, say that you don't know the answer.\n",
    "Query:\\n{cypher_query}\n",
    "Information:\n",
    "[{col_name}: {_values}]\n",
    "\n",
    "Question: {query}\n",
    "Helpful Answer:\n",
    "\"\"\""
   ]
  },
  {
   "cell_type": "markdown",
   "id": "94a3db0f-9a65-4dcd-8a0e-6e97d35e1b6f",
   "metadata": {},
   "source": [
    "## Graph-only retrieval"
   ]
  },
  {
   "cell_type": "code",
   "execution_count": 39,
   "id": "5ed21db0-9078-4c38-ac77-b5c925d1165c",
   "metadata": {
    "execution": {
     "iopub.execute_input": "2024-09-25T07:01:27.314968Z",
     "iopub.status.busy": "2024-09-25T07:01:27.314437Z",
     "iopub.status.idle": "2024-09-25T07:01:27.326518Z",
     "shell.execute_reply": "2024-09-25T07:01:27.324850Z",
     "shell.execute_reply.started": "2024-09-25T07:01:27.314919Z"
    }
   },
   "outputs": [],
   "source": [
    "#| echo: true\n",
    "def generate_kg_response(query):\n",
    "    prompt = generate_kuzu_prompt(query)\n",
    "    cypher_query_response = llm.create_chat_completion(\n",
    "        messages=[{\"role\": \"user\", \"content\": prompt}], \n",
    "        temperature=0,\n",
    "        seed=42\n",
    "    )\n",
    "    cypher_query = cypher_query_response[\"choices\"][0][\"message\"][\"content\"]\n",
    "    response = conn.execute(\n",
    "        f\"\"\"\n",
    "        {cypher_query}\n",
    "        \"\"\"\n",
    "    )\n",
    "    df = response.get_as_pl()\n",
    "    col_name = df.columns[0]\n",
    "    _values = df[col_name].to_list()\n",
    "    final_prompt = generate_final_prompt(query,cypher_query,col_name,_values)\n",
    "    final_response = llm.create_chat_completion(\n",
    "        messages=[{\"role\": \"user\", \"content\": final_prompt}], \n",
    "        temperature=0,\n",
    "        seed=42\n",
    "    )\n",
    "    return final_response[\"choices\"][0][\"message\"][\"content\"]"
   ]
  },
  {
   "cell_type": "markdown",
   "id": "59ba313b-cf2b-4b76-baa3-93b17803a2e9",
   "metadata": {},
   "source": [
    "## Graph-only retrieval"
   ]
  },
  {
   "cell_type": "code",
   "execution_count": 40,
   "id": "6015d02c-df89-424d-a2a5-954b6581ce3a",
   "metadata": {
    "execution": {
     "iopub.execute_input": "2024-09-25T07:01:28.330990Z",
     "iopub.status.busy": "2024-09-25T07:01:28.330462Z",
     "iopub.status.idle": "2024-09-25T07:01:29.443336Z",
     "shell.execute_reply": "2024-09-25T07:01:29.442541Z",
     "shell.execute_reply.started": "2024-09-25T07:01:28.330941Z"
    }
   },
   "outputs": [
    {
     "name": "stdout",
     "output_type": "stream",
     "text": [
      "The Black Album has 12 songs.\n"
     ]
    }
   ],
   "source": [
    "#| echo: true\n",
    "query = \"How many songs does the black album have?\"\n",
    "print(generate_kg_response(query))"
   ]
  },
  {
   "cell_type": "markdown",
   "id": "9eee4379-3107-4dca-ad69-22285280c5d0",
   "metadata": {},
   "source": [
    "## Graph-only retrieval"
   ]
  },
  {
   "cell_type": "code",
   "execution_count": 41,
   "id": "baf1adab-27da-4b81-afe5-69b3b5f17c42",
   "metadata": {
    "execution": {
     "iopub.execute_input": "2024-09-25T07:01:31.464421Z",
     "iopub.status.busy": "2024-09-25T07:01:31.463507Z",
     "iopub.status.idle": "2024-09-25T07:01:33.925270Z",
     "shell.execute_reply": "2024-09-25T07:01:33.924000Z",
     "shell.execute_reply.started": "2024-09-25T07:01:31.464363Z"
    }
   },
   "outputs": [
    {
     "name": "stdout",
     "output_type": "stream",
     "text": [
      "The Black Album has the following songs: Sad But True, My Friend Of Misery, Holier Than Thou, \"Don't Tread On Me\", Through The Never, The God That Failed, Enter Sandman, Nothing Else Matters, Of Wolf And Man, The Unforgiven, Wherever I May Roam, The Struggle Within.\n"
     ]
    }
   ],
   "source": [
    "#| echo: true\n",
    "query = \"Which songs does the black album have?\"\n",
    "print(generate_kg_response(query))"
   ]
  },
  {
   "cell_type": "markdown",
   "id": "5fdd1e87-e6d5-4223-872e-dc024af53b34",
   "metadata": {},
   "source": [
    "## Graph-only retrieval"
   ]
  },
  {
   "cell_type": "markdown",
   "id": "72a2e83e-7f34-4827-8b3a-20eb1eb8c2b4",
   "metadata": {},
   "source": [
    "[https://alonsosilva-song-finder-graph.hf.space](https://alonsosilva-song-finder-graph.hf.space)"
   ]
  },
  {
   "cell_type": "code",
   "execution_count": 42,
   "id": "806a8b14-93ea-4a7c-81a0-c578706efd06",
   "metadata": {
    "execution": {
     "iopub.execute_input": "2024-09-25T07:01:38.916866Z",
     "iopub.status.busy": "2024-09-25T07:01:38.916246Z",
     "iopub.status.idle": "2024-09-25T07:01:38.926165Z",
     "shell.execute_reply": "2024-09-25T07:01:38.924880Z",
     "shell.execute_reply.started": "2024-09-25T07:01:38.916812Z"
    }
   },
   "outputs": [
    {
     "data": {
      "text/html": [
       "\n",
       "        <iframe\n",
       "            width=\"850\"\n",
       "            height=\"450\"\n",
       "            src=\"https://alonsosilva-song-finder-graph.hf.space\"\n",
       "            frameborder=\"0\"\n",
       "            allowfullscreen\n",
       "            \n",
       "        ></iframe>\n",
       "        "
      ],
      "text/plain": [
       "<IPython.lib.display.IFrame at 0x7c5466b7bb50>"
      ]
     },
     "execution_count": 42,
     "metadata": {},
     "output_type": "execute_result"
    }
   ],
   "source": [
    "IFrame(\"https://alonsosilva-song-finder-graph.hf.space\", width=850, height=450)"
   ]
  },
  {
   "cell_type": "markdown",
   "id": "3a66ad16-b3f6-440e-abc4-75c7c869a47b",
   "metadata": {},
   "source": [
    "# Combining graph and vector retrieval"
   ]
  },
  {
   "cell_type": "markdown",
   "id": "612b59fd-8ddc-46ab-8341-18328bc90ae0",
   "metadata": {},
   "source": [
    "## Classification"
   ]
  },
  {
   "cell_type": "code",
   "execution_count": 43,
   "id": "2783bab2-6bba-49d6-a58f-5eedbdb09b14",
   "metadata": {
    "execution": {
     "iopub.execute_input": "2024-09-25T07:01:41.082851Z",
     "iopub.status.busy": "2024-09-25T07:01:41.082306Z",
     "iopub.status.idle": "2024-09-25T07:01:41.090236Z",
     "shell.execute_reply": "2024-09-25T07:01:41.088923Z",
     "shell.execute_reply.started": "2024-09-25T07:01:41.082799Z"
    }
   },
   "outputs": [],
   "source": [
    "#| echo: true\n",
    "def generate_hermes_prompt(user_prompt):\n",
    "    return (\n",
    "        \"<|im_start|>system\\n\"\n",
    "        \"You are a world class AI model classifier\"\n",
    "        \"<|im_end|>\\n\"\n",
    "        \"<|im_start|>user\\n\"\n",
    "        + user_prompt\n",
    "        + \"<|im_end|>\"\n",
    "        + \"\\n<|im_start|>assistant\\n\"\n",
    "    )"
   ]
  },
  {
   "cell_type": "markdown",
   "id": "6b48e59b-0f55-4005-9eca-1e125edd0af0",
   "metadata": {},
   "source": [
    "## Classification"
   ]
  },
  {
   "cell_type": "code",
   "execution_count": 44,
   "id": "54f788a6-5f97-4d2a-b05a-16c5e5573832",
   "metadata": {
    "execution": {
     "iopub.execute_input": "2024-09-25T07:01:42.770555Z",
     "iopub.status.busy": "2024-09-25T07:01:42.770002Z",
     "iopub.status.idle": "2024-09-25T07:01:44.866743Z",
     "shell.execute_reply": "2024-09-25T07:01:44.865937Z",
     "shell.execute_reply.started": "2024-09-25T07:01:42.770503Z"
    }
   },
   "outputs": [],
   "source": [
    "#| echo: true\n",
    "from outlines import generate, models\n",
    "from outlines.samplers import greedy\n",
    "\n",
    "def get_classification(query):\n",
    "    model = models.LlamaCpp(llm)\n",
    "    generator = generate.choice(model, [\"YES\", \"NO\"], sampler=greedy())\n",
    "    prompt = \"Answer only YES or NO. Is the question '\" + query + \"' related to the content of a song?\"\n",
    "    prompt = generate_hermes_prompt(prompt)\n",
    "    response = generator(prompt, max_tokens=1024, temperature=0, seed=42)\n",
    "    return response"
   ]
  },
  {
   "cell_type": "markdown",
   "id": "3388cb2e-3123-422e-8c2e-c6a329d094fa",
   "metadata": {},
   "source": [
    "## Classification"
   ]
  },
  {
   "cell_type": "code",
   "execution_count": 45,
   "id": "6ae946ef-10ce-48ae-a7a7-07635fd74674",
   "metadata": {
    "execution": {
     "iopub.execute_input": "2024-09-25T07:01:44.871549Z",
     "iopub.status.busy": "2024-09-25T07:01:44.871355Z",
     "iopub.status.idle": "2024-09-25T07:01:45.785173Z",
     "shell.execute_reply": "2024-09-25T07:01:45.783889Z",
     "shell.execute_reply.started": "2024-09-25T07:01:44.871533Z"
    }
   },
   "outputs": [
    {
     "name": "stdout",
     "output_type": "stream",
     "text": [
      "**Which song is about a boy who is having nightmares?**\n"
     ]
    },
    {
     "name": "stderr",
     "output_type": "stream",
     "text": [
      "/home/asilva/2024-PyData-Paris/.venv/lib/python3.10/site-packages/llama_cpp/llama.py:1138: RuntimeWarning: Detected duplicate leading \"<|begin_of_text|>\" in prompt, this will likely reduce response quality, consider removing it...\n",
      "  warnings.warn(\n"
     ]
    },
    {
     "name": "stdout",
     "output_type": "stream",
     "text": [
      "YES\n",
      "\n",
      "**Which song is about a guy who is so badly wounded in war so he no longer has any senses?**\n",
      "YES\n",
      "\n",
      "**How many songs does the black album have?**\n",
      "NO\n",
      "\n",
      "**Which songs does the black album have?**\n",
      "NO\n",
      "\n"
     ]
    }
   ],
   "source": [
    "#| echo: true\n",
    "queries = [\n",
    "    \"Which song is about a boy who is having nightmares?\",\n",
    "    \"Which song is about a guy who is so badly wounded in war so he no longer has any senses?\",\n",
    "    \"How many songs does the black album have?\",\n",
    "    \"Which songs does the black album have?\"\n",
    "]\n",
    "for query in queries:\n",
    "    print(f\"**{query}**\")\n",
    "    print(get_classification(query))\n",
    "    print()"
   ]
  },
  {
   "cell_type": "code",
   "execution_count": 46,
   "id": "5589bef0-8362-4b67-aa24-27f18f0d299e",
   "metadata": {
    "execution": {
     "iopub.execute_input": "2024-09-25T07:01:46.658067Z",
     "iopub.status.busy": "2024-09-25T07:01:46.657469Z",
     "iopub.status.idle": "2024-09-25T07:01:46.664586Z",
     "shell.execute_reply": "2024-09-25T07:01:46.663175Z",
     "shell.execute_reply.started": "2024-09-25T07:01:46.658013Z"
    }
   },
   "outputs": [],
   "source": [
    "# #| echo: true\n",
    "# def get_classification(query):\n",
    "#     prompt = \"Answer only YES or NO. Is the question '\" + query + \"' related to the content of a song?\"\n",
    "#     response = llm.create_chat_completion(\n",
    "#         messages=[{\"role\": \"user\", \"content\": prompt}], \n",
    "#         temperature=0,\n",
    "#         seed=42\n",
    "#     )\n",
    "#     return response[\"choices\"][0][\"message\"][\"content\"]"
   ]
  },
  {
   "cell_type": "code",
   "execution_count": 47,
   "id": "31730cf4-d149-49c5-a571-d7169bd49ecd",
   "metadata": {
    "execution": {
     "iopub.execute_input": "2024-09-25T07:01:47.393540Z",
     "iopub.status.busy": "2024-09-25T07:01:47.392998Z",
     "iopub.status.idle": "2024-09-25T07:01:47.399883Z",
     "shell.execute_reply": "2024-09-25T07:01:47.398511Z",
     "shell.execute_reply.started": "2024-09-25T07:01:47.393490Z"
    }
   },
   "outputs": [],
   "source": [
    "# #| echo: true\n",
    "# print(get_classification(\"Which song is about a boy who is having nightmares?\"))\n",
    "# print(get_classification((\n",
    "#     \"Which song is about a guy who is so badly wounded in war \"\n",
    "#     \"so he no longer has any senses\"\n",
    "# )))\n",
    "# print(get_classification(\"How many songs does the black album have?\"))\n",
    "# print(get_classification(\"Which songs does the black album have?\"))"
   ]
  },
  {
   "cell_type": "markdown",
   "id": "96f341b9-2769-48a1-9b72-7cb494f8a0ef",
   "metadata": {},
   "source": [
    "## Combining graph and vector retrieval"
   ]
  },
  {
   "cell_type": "code",
   "execution_count": 48,
   "id": "407c86bd-4fc4-49c4-9539-7e9532e41397",
   "metadata": {
    "execution": {
     "iopub.execute_input": "2024-09-25T07:01:48.526857Z",
     "iopub.status.busy": "2024-09-25T07:01:48.526328Z",
     "iopub.status.idle": "2024-09-25T07:01:48.534686Z",
     "shell.execute_reply": "2024-09-25T07:01:48.533127Z",
     "shell.execute_reply.started": "2024-09-25T07:01:48.526807Z"
    }
   },
   "outputs": [],
   "source": [
    "#| echo: true\n",
    "def get_final_response(query):\n",
    "    query_class = get_classification(query)\n",
    "    if query_class == 'YES':\n",
    "        response = generate_response(query)\n",
    "    else:\n",
    "        response = generate_kg_response(query)\n",
    "    return response"
   ]
  },
  {
   "cell_type": "markdown",
   "id": "b3d535a5-5f28-4b06-92d0-f422d088ffce",
   "metadata": {},
   "source": [
    "## Combining graph and vector retrieval"
   ]
  },
  {
   "cell_type": "code",
   "execution_count": 49,
   "id": "39163826-44da-4ded-9d83-169e96d2e91d",
   "metadata": {
    "execution": {
     "iopub.execute_input": "2024-09-25T07:01:50.745377Z",
     "iopub.status.busy": "2024-09-25T07:01:50.744841Z",
     "iopub.status.idle": "2024-09-25T07:02:03.699761Z",
     "shell.execute_reply": "2024-09-25T07:02:03.698759Z",
     "shell.execute_reply.started": "2024-09-25T07:01:50.745328Z"
    }
   },
   "outputs": [
    {
     "name": "stdout",
     "output_type": "stream",
     "text": [
      "**Which song is about a boy who is having nightmares?**\n",
      "The song that is about a boy who is having nightmares is \"The Black Album: Enter Sandman\". The lyrics mention \"Say your prayers little one\", \"tuck you in warm within\", \"keep you free from sin till the sandman he comes\", \"sleep with one eye open gripping your pillow tight\", \"dreams of war dreams of liars dreams of dragon's fire and of things that will bite\", and \"now I lay me down to sleep pray the lord my soul to keep\". These lines indicate that the song is about a child having nightmares and fearing the dark.\n",
      "\n",
      "**Which song is about a guy who is so badly wounded in war so he no longer has any senses**\n",
      "Based on the context provided, the song \"One\" from the album \"And Justice For All..\" is about a guy who is so badly wounded in war that he no longer has any senses. The lyrics mention \"I can't remember anything / Can't tell if this is true or dream / Deep down / inside I feel to scream / This terrible silence stops me / Now that the war is through with me / I'm waking up, I cannot see / That / there's not much left of me / Nothing is real but pain now\".\n",
      "\n",
      "**How many songs does the black album have?**\n",
      "The Black Album has 12 songs.\n",
      "\n",
      "**Which songs does the black album have?**\n",
      "The Black Album has the following songs: Sad But True, My Friend Of Misery, Holier Than Thou, \"Don't Tread On Me\", Through The Never, The God That Failed, Enter Sandman, Nothing Else Matters, Of Wolf And Man, The Unforgiven, Wherever I May Roam, The Struggle Within.\n",
      "\n"
     ]
    }
   ],
   "source": [
    "#| echo: true\n",
    "queries = [\n",
    "    \"Which song is about a boy who is having nightmares?\",\n",
    "    \"Which song is about a guy who is so badly wounded in war so he no longer has any senses\",\n",
    "    \"How many songs does the black album have?\",\n",
    "    \"Which songs does the black album have?\"\n",
    "]\n",
    "for query in queries:\n",
    "    print(f\"**{query}**\")\n",
    "    print(get_final_response(query))\n",
    "    print()"
   ]
  },
  {
   "cell_type": "markdown",
   "id": "22b786bc-1857-4057-a539-1d3982360284",
   "metadata": {},
   "source": [
    "## Combining graph and vectorial retrieval"
   ]
  },
  {
   "cell_type": "markdown",
   "id": "ce6fcab9-b834-4413-9303-0d573cdd89e5",
   "metadata": {},
   "source": [
    "[https://alonsosilva-song-finder-graphrag.hf.space](https://alonsosilva-song-finder-graphrag.hf.space)"
   ]
  },
  {
   "cell_type": "code",
   "execution_count": 50,
   "id": "aa4f605b-92a1-4786-a799-d46356a41faa",
   "metadata": {
    "execution": {
     "iopub.execute_input": "2024-09-25T07:02:08.128165Z",
     "iopub.status.busy": "2024-09-25T07:02:08.127498Z",
     "iopub.status.idle": "2024-09-25T07:02:08.139124Z",
     "shell.execute_reply": "2024-09-25T07:02:08.137331Z",
     "shell.execute_reply.started": "2024-09-25T07:02:08.128111Z"
    }
   },
   "outputs": [
    {
     "data": {
      "text/html": [
       "\n",
       "        <iframe\n",
       "            width=\"850\"\n",
       "            height=\"450\"\n",
       "            src=\"https://alonsosilva-song-finder-graphrag.hf.space\"\n",
       "            frameborder=\"0\"\n",
       "            allowfullscreen\n",
       "            \n",
       "        ></iframe>\n",
       "        "
      ],
      "text/plain": [
       "<IPython.lib.display.IFrame at 0x7c5298416f80>"
      ]
     },
     "execution_count": 50,
     "metadata": {},
     "output_type": "execute_result"
    }
   ],
   "source": [
    "IFrame(\"https://alonsosilva-song-finder-graphrag.hf.space\", width=850, height=450)"
   ]
  },
  {
   "cell_type": "markdown",
   "id": "16336c11-3c5a-478b-95eb-35b096899d07",
   "metadata": {},
   "source": [
    "# Knowledge graph construction"
   ]
  },
  {
   "cell_type": "markdown",
   "id": "f2a5a9a2-bc07-4b01-9e95-be262b9e1a96",
   "metadata": {
    "execution": {
     "iopub.execute_input": "2024-09-20T11:24:02.271930Z",
     "iopub.status.busy": "2024-09-20T11:24:02.271149Z",
     "iopub.status.idle": "2024-09-20T11:24:02.277985Z",
     "shell.execute_reply": "2024-09-20T11:24:02.276691Z",
     "shell.execute_reply.started": "2024-09-20T11:24:02.271848Z"
    }
   },
   "source": [
    "## Knowledge graph construction"
   ]
  },
  {
   "cell_type": "markdown",
   "id": "c51300d8-cf48-4fe4-9d3a-5b4fa2289c06",
   "metadata": {},
   "source": [
    "[https://alonsosilva-knowledgegraph.hf.space](https://alonsosilva-knowledgegraph.hf.space)"
   ]
  },
  {
   "cell_type": "code",
   "execution_count": 51,
   "id": "6177c61b-1160-4a6e-80f0-07fe02272b85",
   "metadata": {
    "execution": {
     "iopub.execute_input": "2024-09-25T07:02:11.178088Z",
     "iopub.status.busy": "2024-09-25T07:02:11.177522Z",
     "iopub.status.idle": "2024-09-25T07:02:11.188731Z",
     "shell.execute_reply": "2024-09-25T07:02:11.186929Z",
     "shell.execute_reply.started": "2024-09-25T07:02:11.178037Z"
    }
   },
   "outputs": [
    {
     "data": {
      "text/html": [
       "\n",
       "        <iframe\n",
       "            width=\"850\"\n",
       "            height=\"450\"\n",
       "            src=\"https://alonsosilva-knowledgegraph.hf.space\"\n",
       "            frameborder=\"0\"\n",
       "            allowfullscreen\n",
       "            \n",
       "        ></iframe>\n",
       "        "
      ],
      "text/plain": [
       "<IPython.lib.display.IFrame at 0x7c5298417100>"
      ]
     },
     "execution_count": 51,
     "metadata": {},
     "output_type": "execute_result"
    }
   ],
   "source": [
    "IFrame(\"https://alonsosilva-knowledgegraph.hf.space\", width=850, height=450)"
   ]
  },
  {
   "cell_type": "markdown",
   "id": "e3306920-ea2a-46a9-abdd-cbc752c6b804",
   "metadata": {},
   "source": [
    "## Knowledge graph construction"
   ]
  },
  {
   "cell_type": "code",
   "execution_count": 52,
   "id": "790eb05c-7d91-42f3-b35c-8f6d1611a31b",
   "metadata": {
    "execution": {
     "iopub.execute_input": "2024-09-25T07:02:12.457504Z",
     "iopub.status.busy": "2024-09-25T07:02:12.456972Z",
     "iopub.status.idle": "2024-09-25T07:02:12.467551Z",
     "shell.execute_reply": "2024-09-25T07:02:12.465655Z",
     "shell.execute_reply.started": "2024-09-25T07:02:12.457454Z"
    }
   },
   "outputs": [
    {
     "name": "stdout",
     "output_type": "stream",
     "text": [
      "When Marie Curie came to the United States for the first time, in May 1921, she had already discovered the elements radium and polonium, coined the term “radio-active” and won the Nobel Prize—twice. But the Polish-born scientist, almost pathologically shy and accustomed to spending most of her time in her Paris laboratory, was stunned by the fanfare that greeted her. In 1898 she indeed identified one of the substances and named it polonium, after her homeland. Five months later, she identified a second element, which the world came to know as radium. Curie described the elements she studied as “radio-active.”\n",
      "\n",
      "In 1894, she met Pierre Curie, a 35-year-old physicist at a French technical college who had been studying crystals and magnetism. More than a decade before, he and his brother Jacques had discovered piezoelectricity, the electric charge produced in solid materials under pressure. Pierre was taken by Marie’s uncommon intellect and drive, and he proposed to her. They were married in 1895 in a civil service attended by family and a few friends.\n",
      "\n",
      "Both Curies shared the Nobel Prize in physics with Becquerel in 1903. It was the first Nobel to be awarded to a woman. In 1911, rumors spread that Curie was having an affair with the prominent physicist Paul Langevin, a man five years her junior who had been Pierre’s student and had worked closely with Albert Einstein. The front-page coverage of the scandal threatened to overshadow another news story later that year: her second Nobel Prize.\n",
      "\n",
      "This one, in chemistry, was for the discovery of polonium and radium. In her acceptance speech in Stockholm, she paid tribute to her husband but also made clear that her work was independent from his, spelling out their separate contributions and describing the discoveries she had made after his death.\n",
      "\n"
     ]
    }
   ],
   "source": [
    "#| echo: true\n",
    "with open('/home/asilva/quarto/2024-PyData-Paris/kuzu-graph-rag/data/curie/curie.txt', \"r\") as f:\n",
    "    curie_text = f.read()\n",
    "print(curie_text)"
   ]
  },
  {
   "cell_type": "markdown",
   "id": "ae41dc9b-85a1-400c-b7ed-e84c7a3a04ef",
   "metadata": {},
   "source": [
    "## Knowledge graph construction"
   ]
  },
  {
   "cell_type": "code",
   "execution_count": 53,
   "id": "13bd04c3-30b5-473d-add4-f247f741cbae",
   "metadata": {
    "execution": {
     "iopub.execute_input": "2024-09-25T07:02:16.248617Z",
     "iopub.status.busy": "2024-09-25T07:02:16.248054Z",
     "iopub.status.idle": "2024-09-25T07:02:16.300064Z",
     "shell.execute_reply": "2024-09-25T07:02:16.299164Z",
     "shell.execute_reply.started": "2024-09-25T07:02:16.248565Z"
    }
   },
   "outputs": [],
   "source": [
    "#| echo: true\n",
    "from enum import Enum\n",
    "from pydantic import BaseModel, Field\n",
    "\n",
    "class Node_Type(str, Enum):\n",
    "    \"\"\"The type of node of the knowledge graph\"\"\"\n",
    "    PERSON = \"PERSON\"\n",
    "    NOBEL_PRIZE_FIELD = \"NOBEL_PRIZE_FIELD\"\n",
    "    LOCATION = \"LOCATION\"\n",
    "    DISCOVERY = \"DISCOVERY\"\n",
    "\n",
    "class Node(BaseModel):\n",
    "    \"\"\"Node of the Knowledge Graph\"\"\"\n",
    "\n",
    "    id: int = Field(..., description=\"Unique identifier of the node\")\n",
    "    label: str = Field(..., description=\"Label of the node\")\n",
    "    node_type : Node_Type"
   ]
  },
  {
   "cell_type": "markdown",
   "id": "22317231-0b4e-42a4-b66a-d9a5d298c2e2",
   "metadata": {},
   "source": [
    "## Knowledge graph construction"
   ]
  },
  {
   "cell_type": "code",
   "execution_count": 54,
   "id": "6d8917e4-5e66-40a7-b6ca-1f0d9966de69",
   "metadata": {
    "execution": {
     "iopub.execute_input": "2024-09-25T07:02:18.097399Z",
     "iopub.status.busy": "2024-09-25T07:02:18.096805Z",
     "iopub.status.idle": "2024-09-25T07:02:18.113956Z",
     "shell.execute_reply": "2024-09-25T07:02:18.112688Z",
     "shell.execute_reply.started": "2024-09-25T07:02:18.097344Z"
    }
   },
   "outputs": [],
   "source": [
    "#| echo: true\n",
    "class Edge_Type(str, Enum):\n",
    "    \"\"\"The type of edge of the knowledge graph\"\"\"\n",
    "    IS_MARRIED_TO = \"IS_MARRIED_TO\"\n",
    "    WORKED_WITH = \"WORKED_WITH\"\n",
    "    WON = \"WON\"\n",
    "    DISCOVERED = \"DISCOVERED\"\n",
    "\n",
    "class Edge(BaseModel):\n",
    "    \"\"\"Edge of the Knowledge Graph\"\"\"\n",
    "\n",
    "    source: int = Field(..., description=\"Unique source of the edge\")\n",
    "    target: int = Field(..., description=\"Unique target of the edge\")\n",
    "    label: str = Field(..., description=\"Label of the edge\")\n",
    "    edge_type: Edge_Type"
   ]
  },
  {
   "cell_type": "markdown",
   "id": "f4147418-872f-4c89-a6a0-dd5f2406c897",
   "metadata": {},
   "source": [
    "## Knowledge graph construction"
   ]
  },
  {
   "cell_type": "code",
   "execution_count": 55,
   "id": "3a5260dd-b10f-4d70-b513-1f95c880a771",
   "metadata": {
    "execution": {
     "iopub.execute_input": "2024-09-25T07:02:20.066722Z",
     "iopub.status.busy": "2024-09-25T07:02:20.066160Z",
     "iopub.status.idle": "2024-09-25T07:02:20.079152Z",
     "shell.execute_reply": "2024-09-25T07:02:20.077436Z",
     "shell.execute_reply.started": "2024-09-25T07:02:20.066668Z"
    }
   },
   "outputs": [],
   "source": [
    "#| echo: true\n",
    "from typing import List\n",
    "\n",
    "class KnowledgeGraph(BaseModel):\n",
    "    \"\"\"Generated Knowledge Graph\"\"\"\n",
    "\n",
    "    nodes: List[Node] = Field(..., description=\"List of nodes of the knowledge graph\")\n",
    "    edges: List[Edge] = Field(..., description=\"List of edges of the knowledge graph\")"
   ]
  },
  {
   "cell_type": "markdown",
   "id": "980a16e5-ea3a-444a-9a80-3516eb27f032",
   "metadata": {},
   "source": [
    "## Knowledge graph construction"
   ]
  },
  {
   "cell_type": "code",
   "execution_count": 56,
   "id": "596f3978-01d3-4c33-84bf-19393324a4b2",
   "metadata": {
    "execution": {
     "iopub.execute_input": "2024-09-25T07:02:21.042815Z",
     "iopub.status.busy": "2024-09-25T07:02:21.042289Z",
     "iopub.status.idle": "2024-09-25T07:02:21.056858Z",
     "shell.execute_reply": "2024-09-25T07:02:21.055112Z",
     "shell.execute_reply.started": "2024-09-25T07:02:21.042764Z"
    }
   },
   "outputs": [],
   "source": [
    "#| echo: true\n",
    "from outlines.integrations.utils import convert_json_schema_to_str\n",
    "from outlines.fsm.json_schema import build_regex_from_schema\n",
    "\n",
    "json_schema = KnowledgeGraph.model_json_schema()\n",
    "schema_str = convert_json_schema_to_str(json_schema=json_schema)"
   ]
  },
  {
   "cell_type": "markdown",
   "id": "634475af-d898-46f2-a96f-34614fe992df",
   "metadata": {},
   "source": [
    "## Knowledge graph construction"
   ]
  },
  {
   "cell_type": "code",
   "execution_count": 57,
   "id": "3b6bd486-f49a-4f4d-a270-71f304b799e0",
   "metadata": {
    "execution": {
     "iopub.execute_input": "2024-09-25T07:02:22.633360Z",
     "iopub.status.busy": "2024-09-25T07:02:22.632828Z",
     "iopub.status.idle": "2024-09-25T07:02:22.641837Z",
     "shell.execute_reply": "2024-09-25T07:02:22.640020Z",
     "shell.execute_reply.started": "2024-09-25T07:02:22.633309Z"
    }
   },
   "outputs": [],
   "source": [
    "#| echo: true\n",
    "def generate_hermes_prompt(user_prompt):\n",
    "    return (\n",
    "        \"<|im_start|>system\\n\"\n",
    "        \"You are a world class AI model who extract in JSON with correct Pydantic schema. \"\n",
    "        f\"Here's the json schema you must adhere to:\\n<schema>\\n{schema_str}\\n</schema><|im_end|>\\n\"\n",
    "        \"<|im_start|>user\\n\"\n",
    "        + user_prompt\n",
    "        + \"<|im_end|>\"\n",
    "        + \"\\n<|im_start|>assistant\\n\"\n",
    "        \"<schema>\"\n",
    "    )"
   ]
  },
  {
   "cell_type": "markdown",
   "id": "1f8ee75d-d7be-45e3-bbfe-6d0f6a3ad54f",
   "metadata": {},
   "source": [
    "## Knowledge graph construction"
   ]
  },
  {
   "cell_type": "code",
   "execution_count": 58,
   "id": "a531416b-422e-41f1-bfd5-e2976bce6849",
   "metadata": {
    "execution": {
     "iopub.execute_input": "2024-09-25T07:02:24.956625Z",
     "iopub.status.busy": "2024-09-25T07:02:24.956075Z",
     "iopub.status.idle": "2024-09-25T07:02:33.487677Z",
     "shell.execute_reply": "2024-09-25T07:02:33.486915Z",
     "shell.execute_reply.started": "2024-09-25T07:02:24.956574Z"
    }
   },
   "outputs": [],
   "source": [
    "#| echo: true\n",
    "from outlines import generate, models\n",
    "model = models.LlamaCpp(llm)\n",
    "generator = generate.json(model, KnowledgeGraph)\n",
    "prompt = generate_hermes_prompt(curie_text)\n",
    "response = generator(prompt, max_tokens=1024, temperature=0, seed=42)"
   ]
  },
  {
   "cell_type": "code",
   "execution_count": 59,
   "id": "dc1be9ec-db03-4af3-8257-316eeb14eeb1",
   "metadata": {
    "execution": {
     "iopub.execute_input": "2024-09-25T07:02:34.149741Z",
     "iopub.status.busy": "2024-09-25T07:02:34.149155Z",
     "iopub.status.idle": "2024-09-25T07:02:34.158924Z",
     "shell.execute_reply": "2024-09-25T07:02:34.157643Z",
     "shell.execute_reply.started": "2024-09-25T07:02:34.149688Z"
    }
   },
   "outputs": [
    {
     "data": {
      "text/plain": [
       "[Node(id=1, label='Marie Curie', node_type=<Node_Type.PERSON: 'PERSON'>),\n",
       " Node(id=2, label='Pierre Curie', node_type=<Node_Type.PERSON: 'PERSON'>),\n",
       " Node(id=3, label='Polonium', node_type=<Node_Type.DISCOVERY: 'DISCOVERY'>),\n",
       " Node(id=4, label='Radium', node_type=<Node_Type.DISCOVERY: 'DISCOVERY'>),\n",
       " Node(id=5, label='Nobel Prize', node_type=<Node_Type.NOBEL_PRIZE_FIELD: 'NOBEL_PRIZE_FIELD'>)]"
      ]
     },
     "execution_count": 59,
     "metadata": {},
     "output_type": "execute_result"
    }
   ],
   "source": [
    "response.nodes"
   ]
  },
  {
   "cell_type": "code",
   "execution_count": 60,
   "id": "f78dc9eb-0404-4c57-91c3-8eb85b9ed4d1",
   "metadata": {
    "execution": {
     "iopub.execute_input": "2024-09-25T07:02:35.998577Z",
     "iopub.status.busy": "2024-09-25T07:02:35.998014Z",
     "iopub.status.idle": "2024-09-25T07:02:36.008516Z",
     "shell.execute_reply": "2024-09-25T07:02:36.006781Z",
     "shell.execute_reply.started": "2024-09-25T07:02:35.998524Z"
    }
   },
   "outputs": [
    {
     "data": {
      "text/plain": [
       "[Edge(source=1, target=3, label='DISCOVERED', edge_type=<Edge_Type.DISCOVERED: 'DISCOVERED'>),\n",
       " Edge(source=1, target=4, label='DISCOVERED', edge_type=<Edge_Type.DISCOVERED: 'DISCOVERED'>),\n",
       " Edge(source=1, target=5, label='WON', edge_type=<Edge_Type.WON: 'WON'>),\n",
       " Edge(source=1, target=2, label='IS_MARRIED_TO', edge_type=<Edge_Type.IS_MARRIED_TO: 'IS_MARRIED_TO'>),\n",
       " Edge(source=2, target=5, label='WON', edge_type=<Edge_Type.WON: 'WON'>)]"
      ]
     },
     "execution_count": 60,
     "metadata": {},
     "output_type": "execute_result"
    }
   ],
   "source": [
    "response.edges"
   ]
  },
  {
   "cell_type": "markdown",
   "id": "34ed603b-766b-4b58-9658-3c435772d4f5",
   "metadata": {},
   "source": [
    "## Knowledge graph construction"
   ]
  },
  {
   "cell_type": "code",
   "execution_count": 61,
   "id": "e517cf8a-2fa3-40e2-9698-19d2bf06590d",
   "metadata": {
    "execution": {
     "iopub.execute_input": "2024-09-25T07:03:05.633951Z",
     "iopub.status.busy": "2024-09-25T07:03:05.633388Z",
     "iopub.status.idle": "2024-09-25T07:03:05.744451Z",
     "shell.execute_reply": "2024-09-25T07:03:05.743121Z",
     "shell.execute_reply.started": "2024-09-25T07:03:05.633897Z"
    }
   },
   "outputs": [
    {
     "data": {
      "image/svg+xml": [
       "<?xml version=\"1.0\" encoding=\"UTF-8\" standalone=\"no\"?>\n",
       "<!DOCTYPE svg PUBLIC \"-//W3C//DTD SVG 1.1//EN\"\n",
       " \"http://www.w3.org/Graphics/SVG/1.1/DTD/svg11.dtd\">\n",
       "<!-- Generated by graphviz version 2.43.0 (0)\n",
       " -->\n",
       "<!-- Title: %3 Pages: 1 -->\n",
       "<svg width=\"440pt\" height=\"433pt\"\n",
       " viewBox=\"0.00 0.00 439.88 432.92\" xmlns=\"http://www.w3.org/2000/svg\" xmlns:xlink=\"http://www.w3.org/1999/xlink\">\n",
       "<g id=\"graph0\" class=\"graph\" transform=\"scale(1 1) rotate(0) translate(4 428.92)\">\n",
       "<title>%3</title>\n",
       "<polygon fill=\"white\" stroke=\"transparent\" points=\"-4,4 -4,-428.92 435.88,-428.92 435.88,4 -4,4\"/>\n",
       "<!-- 1 -->\n",
       "<g id=\"node1\" class=\"node\">\n",
       "<title>1</title>\n",
       "<ellipse fill=\"none\" stroke=\"black\" cx=\"246.88\" cy=\"-371.1\" rx=\"53.64\" ry=\"53.64\"/>\n",
       "<text text-anchor=\"middle\" x=\"246.88\" y=\"-367.4\" font-family=\"Times,serif\" font-size=\"14.00\">Marie Curie</text>\n",
       "</g>\n",
       "<!-- 2 -->\n",
       "<g id=\"node2\" class=\"node\">\n",
       "<title>2</title>\n",
       "<ellipse fill=\"none\" stroke=\"black\" cx=\"54.88\" cy=\"-211.4\" rx=\"54.75\" ry=\"54.75\"/>\n",
       "<text text-anchor=\"middle\" x=\"54.88\" y=\"-207.7\" font-family=\"Times,serif\" font-size=\"14.00\">Pierre Curie</text>\n",
       "</g>\n",
       "<!-- 1&#45;&gt;2 -->\n",
       "<g id=\"edge4\" class=\"edge\">\n",
       "<title>1&#45;&gt;2</title>\n",
       "<path fill=\"none\" stroke=\"black\" d=\"M193.16,-365.81C148.97,-359.16 88.76,-342.24 57.88,-299.28 52.99,-292.49 50.08,-284.56 48.52,-276.31\"/>\n",
       "<polygon fill=\"black\" stroke=\"black\" points=\"51.96,-275.62 47.24,-266.14 45.02,-276.5 51.96,-275.62\"/>\n",
       "<text text-anchor=\"middle\" x=\"118.38\" y=\"-288.08\" font-family=\"Times,serif\" font-size=\"14.00\">IS_MARRIED_TO</text>\n",
       "</g>\n",
       "<!-- 3 -->\n",
       "<g id=\"node3\" class=\"node\">\n",
       "<title>3</title>\n",
       "<ellipse fill=\"none\" stroke=\"black\" cx=\"184.88\" cy=\"-211.4\" rx=\"43.59\" ry=\"43.59\"/>\n",
       "<text text-anchor=\"middle\" x=\"184.88\" y=\"-207.7\" font-family=\"Times,serif\" font-size=\"14.00\">Polonium</text>\n",
       "</g>\n",
       "<!-- 1&#45;&gt;3 -->\n",
       "<g id=\"edge1\" class=\"edge\">\n",
       "<title>1&#45;&gt;3</title>\n",
       "<path fill=\"none\" stroke=\"black\" d=\"M207.48,-334.05C198.72,-323.75 190.64,-311.88 185.88,-299.28 181.83,-288.58 180.1,-276.61 179.66,-265.04\"/>\n",
       "<polygon fill=\"black\" stroke=\"black\" points=\"183.16,-265 179.58,-255.03 176.16,-265.06 183.16,-265\"/>\n",
       "<text text-anchor=\"middle\" x=\"236.38\" y=\"-288.08\" font-family=\"Times,serif\" font-size=\"14.00\">DISCOVERED</text>\n",
       "</g>\n",
       "<!-- 4 -->\n",
       "<g id=\"node4\" class=\"node\">\n",
       "<title>4</title>\n",
       "<ellipse fill=\"none\" stroke=\"black\" cx=\"308.88\" cy=\"-211.4\" rx=\"37.43\" ry=\"37.43\"/>\n",
       "<text text-anchor=\"middle\" x=\"308.88\" y=\"-207.7\" font-family=\"Times,serif\" font-size=\"14.00\">Radium</text>\n",
       "</g>\n",
       "<!-- 1&#45;&gt;4 -->\n",
       "<g id=\"edge2\" class=\"edge\">\n",
       "<title>1&#45;&gt;4</title>\n",
       "<path fill=\"none\" stroke=\"black\" d=\"M274.75,-324.89C279.2,-316.56 283.46,-307.8 286.88,-299.28 292.04,-286.39 296.28,-271.93 299.61,-258.56\"/>\n",
       "<polygon fill=\"black\" stroke=\"black\" points=\"303.07,-259.13 301.98,-248.59 296.26,-257.51 303.07,-259.13\"/>\n",
       "<text text-anchor=\"middle\" x=\"342.38\" y=\"-288.08\" font-family=\"Times,serif\" font-size=\"14.00\">DISCOVERED</text>\n",
       "</g>\n",
       "<!-- 5 -->\n",
       "<g id=\"node5\" class=\"node\">\n",
       "<title>5</title>\n",
       "<ellipse fill=\"none\" stroke=\"black\" cx=\"239.88\" cy=\"-52.76\" rx=\"52.53\" ry=\"52.53\"/>\n",
       "<text text-anchor=\"middle\" x=\"239.88\" y=\"-49.06\" font-family=\"Times,serif\" font-size=\"14.00\">Nobel Prize</text>\n",
       "</g>\n",
       "<!-- 1&#45;&gt;5 -->\n",
       "<g id=\"edge3\" class=\"edge\">\n",
       "<title>1&#45;&gt;5</title>\n",
       "<path fill=\"none\" stroke=\"black\" d=\"M300.17,-362.39C346.22,-352.53 404.32,-330.79 396.88,-284.28 387.42,-225.26 387.61,-206.54 354.88,-156.53 338.09,-130.89 313.33,-107.64 291.08,-89.76\"/>\n",
       "<polygon fill=\"black\" stroke=\"black\" points=\"293.04,-86.85 283.02,-83.42 288.72,-92.35 293.04,-86.85\"/>\n",
       "<text text-anchor=\"middle\" x=\"412.88\" y=\"-207.7\" font-family=\"Times,serif\" font-size=\"14.00\">WON</text>\n",
       "</g>\n",
       "<!-- 2&#45;&gt;5 -->\n",
       "<g id=\"edge5\" class=\"edge\">\n",
       "<title>2&#45;&gt;5</title>\n",
       "<path fill=\"none\" stroke=\"black\" d=\"M96.39,-175.25C124.85,-151.16 162.67,-119.13 192.34,-94.02\"/>\n",
       "<polygon fill=\"black\" stroke=\"black\" points=\"194.71,-96.59 200.08,-87.46 190.19,-91.25 194.71,-96.59\"/>\n",
       "<text text-anchor=\"middle\" x=\"172.88\" y=\"-127.33\" font-family=\"Times,serif\" font-size=\"14.00\">WON</text>\n",
       "</g>\n",
       "</g>\n",
       "</svg>\n"
      ],
      "text/plain": [
       "<graphviz.graphs.Digraph at 0x7c5200d44e20>"
      ]
     },
     "execution_count": 61,
     "metadata": {},
     "output_type": "execute_result"
    }
   ],
   "source": [
    "#| echo: true\n",
    "from graphviz import Digraph\n",
    "\n",
    "dot = Digraph()\n",
    "for node in response.nodes:\n",
    "    dot.node(str(node.id), node.label, shape='circle', width='1', height='1')\n",
    "for edge in response.edges:\n",
    "    dot.edge(str(edge.source), str(edge.target), label=edge.label.upper())\n",
    "\n",
    "dot"
   ]
  },
  {
   "cell_type": "markdown",
   "id": "1f394b55-14de-4a76-8075-f336dc86b86f",
   "metadata": {},
   "source": [
    "# Conclusions"
   ]
  },
  {
   "cell_type": "markdown",
   "id": "c34d9995-3a1d-4c3f-ba21-bfe5b0b28005",
   "metadata": {},
   "source": [
    "## Conclusions"
   ]
  },
  {
   "cell_type": "markdown",
   "id": "010bf401-7b81-43e4-9ecb-57950a9e4340",
   "metadata": {},
   "source": [
    "- The goal is to provide better context to the LLM prior to generating its response\n",
    "- Combining graph + vector retrieval help us to achieve this goal better than vector-only retrieval or graph-only retrieval\n",
    "- Knowledge graph construction with structured outputs allows us to constrain the node types and edge types explicitly"
   ]
  },
  {
   "cell_type": "markdown",
   "id": "7b27e259-3be5-49fa-bb93-dcbad7a90798",
   "metadata": {},
   "source": [
    "## References\n",
    "\n",
    "- [Enhancing the Accuracy of RAG Applications With Knowledge Graphs](https://neo4j.com/developer-blog/enhance-rag-knowledge-graph/) by Tomaž Bratanič\n",
    "- [A GenAI-Powered Song Finder in Four Lines of Code](https://neo4j.com/developer-blog/genai-powered-song-finder/) by Christoffer Bergman\n",
    "- [Graph RAG strategies using Kùzu](https://github.com/kuzudb/graph-rag) by Prashanth Rao\n",
    "- [LanceDB](https://github.com/lancedb/lancedb) (vector DB) + [Kùzu](https://github.com/kuzudb/kuzu) (graph DB) +  [Llama.cpp](https://github.com/abetlen/llama-cpp-python) (inference) + [Outlines](https://dottxt-ai.github.io/outlines/) (structured outputs) + [LangChain](https://github.com/langchain-ai/langchain) (framework) + [Solara](https://github.com/widgetti/solara) (visualization)"
   ]
  },
  {
   "cell_type": "code",
   "execution_count": null,
   "id": "7e3ee111-d451-4d78-b2e4-537bedb961c2",
   "metadata": {},
   "outputs": [],
   "source": []
  },
  {
   "cell_type": "code",
   "execution_count": null,
   "id": "afbdb9a4-e51a-4776-8378-c4972bfc1710",
   "metadata": {},
   "outputs": [],
   "source": []
  },
  {
   "cell_type": "code",
   "execution_count": null,
   "id": "3500d5f2-04ab-44a3-8777-9163fa646f09",
   "metadata": {},
   "outputs": [],
   "source": []
  },
  {
   "cell_type": "code",
   "execution_count": null,
   "id": "cf22f660-05fc-410e-b2a7-8d5b219ec77b",
   "metadata": {},
   "outputs": [],
   "source": []
  },
  {
   "cell_type": "code",
   "execution_count": null,
   "id": "64e43686-94ae-415f-b549-a88ea168a23f",
   "metadata": {},
   "outputs": [],
   "source": []
  },
  {
   "cell_type": "code",
   "execution_count": null,
   "id": "9a3d9b56-870a-4b91-9cc6-fe1df027b4d1",
   "metadata": {},
   "outputs": [],
   "source": []
  },
  {
   "cell_type": "code",
   "execution_count": null,
   "id": "9d88bb84-6f9c-4720-bda8-994d18174892",
   "metadata": {},
   "outputs": [],
   "source": []
  },
  {
   "cell_type": "code",
   "execution_count": null,
   "id": "100e97f1-63ed-40cc-acf1-04bda72704e0",
   "metadata": {},
   "outputs": [],
   "source": []
  },
  {
   "cell_type": "code",
   "execution_count": null,
   "id": "9e826cf9-2366-4acd-8c5a-41051a51e7c4",
   "metadata": {},
   "outputs": [],
   "source": []
  },
  {
   "cell_type": "code",
   "execution_count": null,
   "id": "1820f7eb-2f54-461f-ac9a-759e149273d9",
   "metadata": {},
   "outputs": [],
   "source": []
  },
  {
   "cell_type": "code",
   "execution_count": null,
   "id": "8aa36c7d-e072-4866-87ba-032d255c6cc0",
   "metadata": {},
   "outputs": [],
   "source": []
  },
  {
   "cell_type": "code",
   "execution_count": null,
   "id": "a498d2c7-c32f-4760-a8e3-43bc8830954e",
   "metadata": {},
   "outputs": [],
   "source": []
  }
 ],
 "metadata": {
  "kernelspec": {
   "display_name": "Python 3 (ipykernel)",
   "language": "python",
   "name": "python3"
  },
  "language_info": {
   "codemirror_mode": {
    "name": "ipython",
    "version": 3
   },
   "file_extension": ".py",
   "mimetype": "text/x-python",
   "name": "python",
   "nbconvert_exporter": "python",
   "pygments_lexer": "ipython3",
   "version": "3.10.14"
  }
 },
 "nbformat": 4,
 "nbformat_minor": 5
}
